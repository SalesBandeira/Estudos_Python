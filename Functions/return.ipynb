{
 "cells": [
  {
   "cell_type": "code",
   "execution_count": 1,
   "metadata": {},
   "outputs": [
    {
     "name": "stdout",
     "output_type": "stream",
     "text": [
      "4\n",
      "None\n",
      "4\n",
      "2\n"
     ]
    }
   ],
   "source": [
    "\n",
    "\"\"\"\n",
    "Imprimir != de retornar.\n",
    "\n",
    "Diversas funções build in possuem o retorno, isso é, uma informação atribuida a ativação dessa função. Porém\n",
    "algumas funções não possuem tal retorno. É necessário que tenhamos atenção ao atribuir à uma variavel o valor de uma \n",
    "função, pois essa pode não ter um valor de retorno. O que ela faz é imprimir no console os parâmetros atribuidos. o que\n",
    "é diferente de um retorno.\n",
    "\n",
    "Quando uma function não retorna nada, o tipo do dado é None\n",
    "\"\"\"\n",
    "\n",
    "# função sem retorno\n",
    "def square_root(x):\n",
    "    print(x*x)\n",
    "x = square_root(2)\n",
    "print(x)\n",
    "\n",
    "\n",
    "#função com retorno\n",
    "def square_root1(x):\n",
    "    print(x*x)\n",
    "    return x\n",
    "y = square_root1(2)\n",
    "print(y)\n",
    "\n"
   ]
  },
  {
   "cell_type": "code",
   "execution_count": 65,
   "metadata": {},
   "outputs": [
    {
     "name": "stdout",
     "output_type": "stream",
     "text": [
      "a Raiz qudrada de 4 é 16\n"
     ]
    },
    {
     "data": {
      "text/plain": [
       "'Papel'"
      ]
     },
     "execution_count": 65,
     "metadata": {},
     "output_type": "execute_result"
    }
   ],
   "source": [
    "\"\"\"\n",
    "Topicos sobre - return\n",
    "    - Finaliza a função. Portanto deve ser utilzada ao final.\n",
    "    - pode haver mais de um return\n",
    "    - podemos retornar qualquer tipo de dado, de string a None e multiplos valores.\n",
    "\"\"\"\n",
    "# info após o return nunca será lida.\n",
    "\n",
    "def square_root2(x):\n",
    "    return x * x\n",
    "    print(f'a Raiz qudrada de {x} é {square_root2} ')\n",
    "\n",
    "\n",
    "square_root2(2)\n",
    "\n",
    "# forma correta:\n",
    "\n",
    "def square_root3(x):\n",
    "    print(f'a Raiz qudrada de {x} é {x*x}')\n",
    "    return x * x\n",
    "\n",
    "square_root3(4)\n",
    "\n",
    "# a utilização de diversos return ocorrem com o if\n",
    "\n",
    "def square_root4(x):\n",
    "    if x == 4:\n",
    "        return 'PAR'\n",
    "    elif x == 3:\n",
    "        return 'IMPAR'\n",
    "\n",
    "square_root4(3)\n",
    "\n",
    "square_root4(4)\n",
    "\n",
    "from random import random\n",
    "\n",
    "# Jogando JANKENPÔ\n",
    "def jokenpo():\n",
    "    if random() < 0.33:\n",
    "        return \"Pedra\"\n",
    "    elif random() < 0.66 and random() > 0.33:\n",
    "        return \"Papel\"\n",
    "    return \"Tesoura\"\n",
    "\n",
    "jokenpo()\n",
    "\n"
   ]
  },
  {
   "cell_type": "code",
   "execution_count": 109,
   "metadata": {},
   "outputs": [
    {
     "name": "stdout",
     "output_type": "stream",
     "text": [
      "10\n",
      "9\n",
      "8\n",
      "7\n",
      "6\n",
      "5\n",
      "4\n",
      "3\n",
      "2\n",
      "1\n"
     ]
    },
    {
     "data": {
      "text/plain": [
       "1"
      ]
     },
     "execution_count": 109,
     "metadata": {},
     "output_type": "execute_result"
    }
   ],
   "source": [
    "def contagem_regressiva(i,f):\n",
    "    contagem = range(i,f+1)\n",
    "    for n in contagem[::-1]:\n",
    "        print(n)\n",
    "    return n\n",
    "\n",
    "contagem_regressiva(1,10)"
   ]
  }
 ],
 "metadata": {
  "interpreter": {
   "hash": "9efce205f64ad363cd9f14615485aca38ee4ef0915866e318aa83c8d0c93f6fc"
  },
  "kernelspec": {
   "display_name": "Python 3.10.2 64-bit",
   "language": "python",
   "name": "python3"
  },
  "language_info": {
   "codemirror_mode": {
    "name": "ipython",
    "version": 3
   },
   "file_extension": ".py",
   "mimetype": "text/x-python",
   "name": "python",
   "nbconvert_exporter": "python",
   "pygments_lexer": "ipython3",
   "version": "3.10.2"
  },
  "orig_nbformat": 4
 },
 "nbformat": 4,
 "nbformat_minor": 2
}
