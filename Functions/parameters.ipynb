{
 "cells": [
  {
   "cell_type": "code",
   "execution_count": 6,
   "metadata": {},
   "outputs": [
    {
     "name": "stdout",
     "output_type": "stream",
     "text": [
      "Seu nome completo é Sales Bandeira!\n",
      "Seu nome completo é Bandeira Sales!\n",
      "Seu nome completo é Sales Bandeira!\n",
      "par\n"
     ]
    }
   ],
   "source": [
    "\"\"\"\n",
    "Parametros são definições de entrada em funções.\n",
    "um programa normalmente passa por 3 etapas:\n",
    "    - Entrada\n",
    "    - Processamento\n",
    "    - Saida\n",
    "Funções podem possuir todas essas 3 etapas, porém, não é incomum encontrarmos função que não possuem saida, ou entrada ou ainda \n",
    "que não possuem nem entrada e nem saída. O unico que não pode faltar é o processamento de dados.\n",
    "\n",
    "Funções podem conter quantos parametros acharmos necessários.\n",
    "\n",
    "parametro são variáveis declaradas na definição da função\n",
    "argumentos são dados passados para que a função seja exucatada.\n",
    "\n",
    "     parametros = definição\n",
    "     argumentos = execução\n",
    "\n",
    "A ordem dos parametros é de extrema importância. Mas podemos gnorar essa ordem ao utilizar argumentos com keywords\n",
    "\"\"\"\n",
    "\n",
    "def name(first_name, second_name): # parametros: first_name e second_name\n",
    "    return f'Seu nome completo é {first_name} {second_name}!'\n",
    "\n",
    "print(name(\"Sales\",\"Bandeira\")) # argumentos: Sales e Bandeira\n",
    "print(name('Bandeira', 'Sales')) # ordem invertida\n",
    "print(name(second_name='Bandeira',first_name='Sales')) #keywords arguments\n"
   ]
  },
  {
   "cell_type": "code",
   "execution_count": 18,
   "metadata": {},
   "outputs": [
    {
     "name": "stdout",
     "output_type": "stream",
     "text": [
      "Impar\n"
     ]
    },
    {
     "data": {
      "text/plain": [
       "9"
      ]
     },
     "execution_count": 18,
     "metadata": {},
     "output_type": "execute_result"
    }
   ],
   "source": [
    "\n",
    "def par_ou_impar(n):\n",
    "    if n % 2 != 0:\n",
    "        return 'Impar'\n",
    "    else:\n",
    "        return 'par'\n",
    "\n",
    "print(par_ou_impar(11))\n",
    "\n",
    "\n",
    "def somar_impares(i,f):\n",
    "    total = 0\n",
    "    lista1 = range(i,f+1)\n",
    "    for n in lista1:\n",
    "        if n % 2 != 0:\n",
    "            total += n\n",
    "    return total\n",
    "\n",
    "somar_impares(1,5)"
   ]
  }
 ],
 "metadata": {
  "interpreter": {
   "hash": "9efce205f64ad363cd9f14615485aca38ee4ef0915866e318aa83c8d0c93f6fc"
  },
  "kernelspec": {
   "display_name": "Python 3.10.2 64-bit",
   "language": "python",
   "name": "python3"
  },
  "language_info": {
   "codemirror_mode": {
    "name": "ipython",
    "version": 3
   },
   "file_extension": ".py",
   "mimetype": "text/x-python",
   "name": "python",
   "nbconvert_exporter": "python",
   "pygments_lexer": "ipython3",
   "version": "3.10.2"
  },
  "orig_nbformat": 4
 },
 "nbformat": 4,
 "nbformat_minor": 2
}
