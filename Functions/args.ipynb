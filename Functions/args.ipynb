{
 "cells": [
  {
   "cell_type": "code",
   "execution_count": 8,
   "metadata": {},
   "outputs": [
    {
     "name": "stdout",
     "output_type": "stream",
     "text": [
      "A Camila vai para o seu turno agora: \n",
      "1\n",
      "2\n",
      "3\n",
      "4\n",
      "5\n",
      "6\n",
      "7\n",
      "8\n",
      "9\n",
      "O turno da Camila durou 9 rodadas o que lhe dá 45 pontos\n"
     ]
    },
    {
     "data": {
      "text/plain": [
       "132"
      ]
     },
     "execution_count": 8,
     "metadata": {},
     "output_type": "execute_result"
    }
   ],
   "source": [
    "\"\"\"\n",
    "O *args pode ser utilizaos dentros de parametros de funções para permitir que o usuário coloque valores extras\n",
    "no momento de declarar os argumentos. Esses valores são armazenados dentro de uma Tupla e podem ser utilizados normalmente.\n",
    "\n",
    "  - O * serve para informamos o Python que estamos passando uma coleção de dados como argumento.\n",
    "  - Com isso em mente, ao utilizarmos o * dentro de um argumento, podemos acessar os dados de listas, tuplas e sets \n",
    "        que estão dentro de outras coleçoes.\n",
    "    \n",
    "\"\"\"\n",
    "\n",
    "def soma1(n1,n2,*args):\n",
    "    return n1+n2+sum(args)\n",
    "\n",
    "def cadastro(nome,sobrenome,*args):\n",
    "    return(f'Olá {nome} {sobrenome}, como você está? R: {args}')\n",
    "\n",
    "cadastro('Sales', 'bandeira', 'Estou muito bem, obrigado!')\n",
    "\n",
    "\n",
    "def somar_valores(nome,*args):\n",
    "    print(f'A {nome} vai para o seu turno agora: ')\n",
    "    for n in args:\n",
    "        print(n)\n",
    "    print(f'O turno da {nome} durou {n} rodadas o que lhe dá {sum(args)} pontos')\n",
    "\n",
    "somar_valores('Camila',1,2,3,4,5,6,7,8,9)\n",
    "\n",
    "soma1(10,20,2,10,50,40)\n",
    "\n",
    "    "
   ]
  }
 ],
 "metadata": {
  "interpreter": {
   "hash": "9efce205f64ad363cd9f14615485aca38ee4ef0915866e318aa83c8d0c93f6fc"
  },
  "kernelspec": {
   "display_name": "Python 3.10.2 64-bit",
   "language": "python",
   "name": "python3"
  },
  "language_info": {
   "codemirror_mode": {
    "name": "ipython",
    "version": 3
   },
   "file_extension": ".py",
   "mimetype": "text/x-python",
   "name": "python",
   "nbconvert_exporter": "python",
   "pygments_lexer": "ipython3",
   "version": "3.10.2"
  },
  "orig_nbformat": 4
 },
 "nbformat": 4,
 "nbformat_minor": 2
}
