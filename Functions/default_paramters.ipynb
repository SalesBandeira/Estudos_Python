{
 "cells": [
  {
   "cell_type": "code",
   "execution_count": 8,
   "metadata": {},
   "outputs": [
    {
     "name": "stdout",
     "output_type": "stream",
     "text": [
      "4\n",
      "1024\n"
     ]
    }
   ],
   "source": [
    "\"\"\"\n",
    "São funções onde os parametros são opcionais\n",
    "algumas funções bultin como o print, são exemplos de funções onde podemos, ou não, declarar um parametro.\n",
    "\n",
    "Ao declararmos funções da forma padrão, os parametros serão sempre obrigatorios. Para mudarmos esse fato temos que declarar\n",
    "um valor para esse padrão para esse parametro. isso é efeito com a atribuição com o sinal de igual (=) logo apos a \n",
    "definição desse parametro.\n",
    "\"\"\"\n",
    "\n",
    "# Observe a função abaixo, podemos tirar duas conclusões\n",
    "# 1 - nesse exemplo, a função foi definida da forma parão, portanto, o paramento é obrigatorio\n",
    "# 2 - Os argumentos devem ser exatamente 2, caso contrario teremos TypeError\n",
    "\n",
    "def exponencial(n,potencia):\n",
    "    return n**potencia\n",
    "\n",
    "print(exponencial(2,2))\n",
    "\n",
    "# Observe a função abaixo\n",
    "# no parametro \"potencia\", definido o valor padrão 2\n",
    "# Caso outro valor não seja declarado no argumento, o parametro vai assumir o valor declarado.\n",
    "\n",
    "def exponencial1(n,potencia=2):\n",
    "    return n**potencia\n",
    "\n",
    "print(exponencial1(4,5))\n",
    "\n",
    "# os parametros com valor default devem sempre ser colocados por ultimo.\n",
    "# def exponencial2(n=2,p): errado\n",
    "# def exponencial2(n,p=2): correto \n",
    "\n",
    "\"\"\"\n",
    "Aproveitando o tema de funções, vale resaltar a diferença entre variáveis locais e variáveis Globais.\n",
    "\n",
    " - Variávei globais são aquelas que podem ser chamadas de qualquer parte do programa\n",
    " - Locais são aqueles que somente podem ser chamadas no local em que estão\n",
    " - Variáveis locais se sobrepõe sobre variáveis globais.\n",
    " - tentar chamar variáveis locais fora de seu local, irá gerar NameError\n",
    " - Se possível, só utilize variáveis locais.\n",
    " - se for necessário chamar uma variável global dentro de uma função, é recomendável utilizar a palavra reservada \"Global\"\n",
    " - Quando utilizamos uma função dentro de outra função e queremos utilizar uma variável que foi definida em uma das funções \n",
    "        chamamos a palavra reservada -nonlocal- antes do nome da variável. pois essa não é nemlocal e nem global.\n",
    "\n",
    "\"\"\"\n",
    "\n",
    "\n",
    "\n"
   ]
  }
 ],
 "metadata": {
  "interpreter": {
   "hash": "9efce205f64ad363cd9f14615485aca38ee4ef0915866e318aa83c8d0c93f6fc"
  },
  "kernelspec": {
   "display_name": "Python 3.10.2 64-bit",
   "language": "python",
   "name": "python3"
  },
  "language_info": {
   "codemirror_mode": {
    "name": "ipython",
    "version": 3
   },
   "file_extension": ".py",
   "mimetype": "text/x-python",
   "name": "python",
   "nbconvert_exporter": "python",
   "pygments_lexer": "ipython3",
   "version": "3.10.2"
  },
  "orig_nbformat": 4
 },
 "nbformat": 4,
 "nbformat_minor": 2
}
