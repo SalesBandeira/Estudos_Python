{
 "cells": [
  {
   "cell_type": "code",
   "execution_count": 33,
   "metadata": {},
   "outputs": [
    {
     "name": "stdout",
     "output_type": "stream",
     "text": [
      "9\n",
      "16\n",
      " Sales Bandeira\n",
      "['Douglas Adams', 'Isaac Asimov', 'Arthur C. Clarke', 'G. R. R. Martin', 'J. R. R. Tolkien']\n"
     ]
    }
   ],
   "source": [
    "\"\"\"\n",
    "As funções conhcidas como lambds nada mais são do que funções que não possuem nomes, funções anonimas.\n",
    "\n",
    "    - Começamos chamando a palavra reservada lambda.\n",
    "    - declaramos os parametros e separamos eles do corpo da função com ':'\n",
    "    - após os ':' começamos o corpo da função, não utilizamos indentação.\n",
    "    - Lambdas não precisam de return, ela vai retornar o que estiver após os dois pontos.\n",
    "    - Podemos utilizar quantos parametros quisermos em nossas funções lambdas\n",
    "\n",
    "\"\"\"\n",
    "# exemplo função comum\n",
    "def exemplo_func(x):\n",
    "    return x * x\n",
    "\n",
    "# exemplo função lambda\n",
    "l1 = lambda x: x*x\n",
    "\n",
    "\n",
    "print(exemplo_func(3))\n",
    "print(l1(4))\n",
    "\n",
    "complete_name = lambda nome, sobrenome: f' {nome.strip().title()} {sobrenome.strip().title()}'\n",
    "\n",
    "print(complete_name(' SALES  ', '  bandeira  '))"
   ]
  },
  {
   "cell_type": "code",
   "execution_count": null,
   "metadata": {},
   "outputs": [],
   "source": [
    "\"\"\"\n",
    "A grande utilização de lambdas está em filtragens e em ordenamentos.\n",
    "\n",
    "Por serem de simplis aplicaração e terem um retorno já definido, são utilizadas como parametro de chaves \n",
    "\n",
    "\"\"\"\n",
    "\n",
    "autores = ['G. R. R. Martin', 'Douglas Adams', 'Arthur C. Clarke', 'J. R. R. Tolkien', 'Isaac Asimov']\n",
    "\n",
    "autores.sort(key = lambda n: n.split(' ')[-1])\n",
    "print(autores)"
   ]
  }
 ],
 "metadata": {
  "interpreter": {
   "hash": "9efce205f64ad363cd9f14615485aca38ee4ef0915866e318aa83c8d0c93f6fc"
  },
  "kernelspec": {
   "display_name": "Python 3.10.2 64-bit",
   "language": "python",
   "name": "python3"
  },
  "language_info": {
   "codemirror_mode": {
    "name": "ipython",
    "version": 3
   },
   "file_extension": ".py",
   "mimetype": "text/x-python",
   "name": "python",
   "nbconvert_exporter": "python",
   "pygments_lexer": "ipython3",
   "version": "3.10.2"
  },
  "orig_nbformat": 4
 },
 "nbformat": 4,
 "nbformat_minor": 2
}
