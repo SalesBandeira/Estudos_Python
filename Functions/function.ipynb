{
 "cells": [
  {
   "cell_type": "code",
   "execution_count": 2,
   "metadata": {},
   "outputs": [
    {
     "name": "stdout",
     "output_type": "stream",
     "text": [
      "Hi, person!\n"
     ]
    }
   ],
   "source": [
    "\"\"\"\n",
    "    Funções:\n",
    "        - São trechos de codigo que realizam tarefas específicas e podem ser chamadas a qualquer momento.\n",
    "        - Podem, ou não, receber entrada de dados e retornar um valor na saida. EX: o print precisa de dados de entrada, \n",
    "            o .clear já não precisa. Isso vai depender da finalidade da função.\n",
    "    Funções integrdas (built in) do python:\n",
    "        - print\n",
    "        - max\n",
    "        - min\n",
    "        -count\n",
    "        -...\n",
    "    \n",
    "\n",
    "Metodo de criação de funções:\n",
    "    - abrimos com o 'def' logo depois damos um nome para a função\n",
    "    - seguindo a pep8, importante que o nome seja snake_case (separado por underline), e todo minúsculo\n",
    "    - os parametros não são obrigatorios. quando mais do que um parametro, devemos separa-los por virgula.\n",
    "    - como tudo em pytohn, para abrir o bloco da função, usamos dois pontos ':'\n",
    "    - no corpo/bloco é onde a magica acontece, usamos para criar o nosso método.\n",
    "    - a função pode ou não retorna um elemento. para isso usamos o return \n",
    "    - CHamamos a função com o nome atribuido a ela seguido de parenteses\n",
    "\n",
    "\n",
    "\n",
    "def function_name (paramentro1, paramentro2):\n",
    "    If: \n",
    "        while: #ex\n",
    "    else: #ex\n",
    "    return \n",
    "\n",
    "function_name(z,y)\n",
    "\n",
    "\n",
    "\"\"\"\n",
    "\n"
   ]
  },
  {
   "cell_type": "code",
   "execution_count": 13,
   "metadata": {},
   "outputs": [
    {
     "name": "stdout",
     "output_type": "stream",
     "text": [
      "Hi, Sales!, você tem 22 anos\n",
      "Hi, Sales!, você tem 22 anos\n",
      "Hi, Sales!, você tem 22 anos\n",
      "Hi, Sales!, você tem 22 anos\n",
      "Hi, Sales!, você tem 22 anos\n",
      "Hi, Sales!, você tem 22 anos\n"
     ]
    }
   ],
   "source": [
    "def hi_person (nome,idade):\n",
    "    print(f'Hi, {nome}!, você tem {idade} anos')\n",
    "\n",
    "for n in range(6):\n",
    "    hi_person('Sales',22)"
   ]
  },
  {
   "cell_type": "code",
   "execution_count": null,
   "metadata": {},
   "outputs": [],
   "source": []
  }
 ],
 "metadata": {
  "interpreter": {
   "hash": "9efce205f64ad363cd9f14615485aca38ee4ef0915866e318aa83c8d0c93f6fc"
  },
  "kernelspec": {
   "display_name": "Python 3.10.2 64-bit",
   "language": "python",
   "name": "python3"
  },
  "language_info": {
   "codemirror_mode": {
    "name": "ipython",
    "version": 3
   },
   "file_extension": ".py",
   "mimetype": "text/x-python",
   "name": "python",
   "nbconvert_exporter": "python",
   "pygments_lexer": "ipython3",
   "version": "3.10.2"
  },
  "orig_nbformat": 4
 },
 "nbformat": 4,
 "nbformat_minor": 2
}
