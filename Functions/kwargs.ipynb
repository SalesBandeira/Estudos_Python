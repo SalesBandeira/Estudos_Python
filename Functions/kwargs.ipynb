{
 "cells": [
  {
   "cell_type": "code",
   "execution_count": 6,
   "metadata": {},
   "outputs": [
    {
     "name": "stdout",
     "output_type": "stream",
     "text": [
      "verde é a cor favorita de Lucas\n",
      "vermelho é a cor favorita de Igor\n",
      "laranja é a cor favorita de Luana\n",
      "azul é a cor favorita de Diego\n"
     ]
    }
   ],
   "source": [
    "\"\"\"\n",
    "**Kwargs são paramentros coringas utilizados para gerar forçadamente dicts dos argumentos inseridos.\n",
    "\n",
    "- Da mesma forma do *args, ao utilzar o **kwargs, podemos chamar quantos argumentos quisermos na função.\n",
    "- No argumento, devemos fazer da mesma forma de uma dict \"chave=valor,chave=valor,chave=valor\"\n",
    "- Assim com o *args, os paramentros **Kwargs não são obrigatorios.\n",
    "- Podemos desempacotar conjuntos dict em funções colocando os dois asteriscos antes do argumento. Dessa forma o Python entende q\n",
    "    que o arguemnto se refere a uma dict.\n",
    "- Para desempactor dicts, o nome das chaves devem ser os mesmos do parametros da função!!!\n",
    "\n",
    "\n",
    "\"\"\"\n",
    "\n",
    "def favorite_color(**kwargs):\n",
    "    for nome, cor in kwargs.items():\n",
    "        print(f'{cor} é a cor favorita de {nome.title()}')\n",
    "\n",
    "\n",
    "favorite_color(lucas='verde',igor='vermelho',luana='laranja',diego='azul')\n",
    "\n",
    "\n"
   ]
  },
  {
   "cell_type": "code",
   "execution_count": 8,
   "metadata": {},
   "outputs": [
    {
     "name": "stdout",
     "output_type": "stream",
     "text": [
      " lucas tem 28 anos. ('lutados de boxe',) É Casado  e tem filhos, sendo eles: {'João': '5 anos', 'Maria': '7 anos'}\n"
     ]
    }
   ],
   "source": [
    "\"\"\"Em uma função, ao declararmos parametros devemos seguir a ordem correta de tipos de parametros. a or dem é a seguinte:\n",
    "    - parametros obrigatorios.\n",
    "    - *args\n",
    "    - parametros default\n",
    "    - **Kwargs\n",
    "\n",
    "Obviamente, como nenhum desses parametros são obrigatorios, caso algum dele não esteja em sua funções basta seguir para o \n",
    "proximo da ordem.\"\"\"\n",
    "\n",
    "# Exemplo:\n",
    "\n",
    "def my_function(nome,idade,*args,StatusCivil='status',**Kwargs): # ordem correta de parametros\n",
    "    print(f' {nome} tem {idade} anos. {args} É {StatusCivil}  e tem filhos, sendo eles: {Kwargs}')\n",
    "\n",
    "my_function('lucas',28,\"lutados de boxe\", StatusCivil='Casado',João=\"5 anos\",Maria=\"7 anos\")\n",
    "\n"
   ]
  },
  {
   "cell_type": "code",
   "execution_count": 24,
   "metadata": {},
   "outputs": [
    {
     "data": {
      "text/plain": [
       "6"
      ]
     },
     "execution_count": 24,
     "metadata": {},
     "output_type": "execute_result"
    }
   ],
   "source": [
    "\n",
    "\"\"\"\n",
    "Resumo * e **\n",
    "\n",
    "Em funções esses simbolos são utilizados para declarar que, naquele parametro teremos uma coleção. \n",
    "    - um asterisco denota que teremos uma coleção com apenas valores, sem chaves.\n",
    "    - dois asteriscos denotas coleções com chave e valor.\n",
    "    - usar o * como parametro gera uma tuplas, por default.\n",
    "    - a unica coleção com chave e valor que temos builtin são dicts. \n",
    "    - args e Kwargs são palavras usadas por boas praticas, podemos usar qualquer outra palavra. O python vai entender.\n",
    "    - podemos usar esses simbolos para desempacotar coleções seguindo o mesmo parametro. exemplo abaixo.\n",
    "    - usamos * para desempactor coleções de valores (sets, tuplas e listas)\n",
    "    - usamos ** para desempacotar coleções de chave:valor. (dict)\n",
    "\n",
    "Como funciona?\n",
    "    - o asterisco representa justamente a quantidade de itens guardados em cada elemento * para um, ** para dois. De resto\n",
    "        basta usar logica.\n",
    "\n",
    "\"\"\"\n",
    "\n",
    "\n",
    "def soma(a,b,c):\n",
    "    return a + b + c\n",
    "\n",
    "lista = [1,2,3]\n",
    "tupla = (1,2,3)\n",
    "set1= {1,2,3}\n",
    "dict1 = {'a': 1,'b': 2, 'c': 3}\n",
    "# soma(lista) ERRADO\n",
    "\n",
    "soma(*lista) # CERTO\n",
    "soma(*tupla) # CERTO\n",
    "soma(*set1) # CERTO\n",
    "soma(**dict1) # CERTO\n",
    "\n"
   ]
  }
 ],
 "metadata": {
  "interpreter": {
   "hash": "9efce205f64ad363cd9f14615485aca38ee4ef0915866e318aa83c8d0c93f6fc"
  },
  "kernelspec": {
   "display_name": "Python 3.10.2 64-bit",
   "language": "python",
   "name": "python3"
  },
  "language_info": {
   "codemirror_mode": {
    "name": "ipython",
    "version": 3
   },
   "file_extension": ".py",
   "mimetype": "text/x-python",
   "name": "python",
   "nbconvert_exporter": "python",
   "pygments_lexer": "ipython3",
   "version": "3.10.2"
  },
  "orig_nbformat": 4
 },
 "nbformat": 4,
 "nbformat_minor": 2
}
