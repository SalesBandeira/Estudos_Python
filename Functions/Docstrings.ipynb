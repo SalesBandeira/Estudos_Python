{
 "cells": [
  {
   "cell_type": "code",
   "execution_count": 7,
   "metadata": {},
   "outputs": [
    {
     "name": "stdout",
     "output_type": "stream",
     "text": [
      "\n",
      "    Função Simples de Jokenpô com a biblioteca random\n",
      "    \n",
      "Help on function jokenpo in module __main__:\n",
      "\n",
      "jokenpo()\n",
      "    Função Simples de Jokenpô com a biblioteca random\n",
      "\n"
     ]
    }
   ],
   "source": [
    "\"\"\"\n",
    "Assim como em qualquer liguagem, a documentação é de extrema importancia em python. \n",
    "Documentando da forma correta podemos facilitar a nossa vida e a de outros desenvolvedores. \n",
    "Pois fica bem mais fácil entender o intuido de um programa/função/etc.\n",
    "\n",
    "Podemos Documentar nossas função colocando comentários dentro do corpo da função.\n",
    "\n",
    "\n",
    "Podemos acessar a documentação de uma função de duas formas:\n",
    " 1 - chamando o help(nome_da_função)\n",
    " 2 - utilizando a propriedade __doc__\n",
    "\n",
    "\"\"\"\n",
    "#Ex:\n",
    "\n",
    "from random import random\n",
    "\n",
    "def jokenpo():\n",
    "    \"\"\"\n",
    "    Função Simples de Jokenpô com a biblioteca random\n",
    "    \"\"\"\n",
    "    if random() < 0.33:\n",
    "        return \"Pedra\"\n",
    "    elif random() < 0.66 and random() > 0.33:\n",
    "        return \"Papel\"\n",
    "    return \"Tesoura\"\n",
    "\n",
    "jokenpo()\n",
    "\n",
    "print(jokenpo.__doc__)\n",
    "help(jokenpo)\n"
   ]
  }
 ],
 "metadata": {
  "interpreter": {
   "hash": "9efce205f64ad363cd9f14615485aca38ee4ef0915866e318aa83c8d0c93f6fc"
  },
  "kernelspec": {
   "display_name": "Python 3.10.2 64-bit",
   "language": "python",
   "name": "python3"
  },
  "language_info": {
   "codemirror_mode": {
    "name": "ipython",
    "version": 3
   },
   "file_extension": ".py",
   "mimetype": "text/x-python",
   "name": "python",
   "nbconvert_exporter": "python",
   "pygments_lexer": "ipython3",
   "version": "3.10.2"
  },
  "orig_nbformat": 4
 },
 "nbformat": 4,
 "nbformat_minor": 2
}
