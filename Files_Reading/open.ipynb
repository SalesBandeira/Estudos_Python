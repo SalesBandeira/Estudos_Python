{
 "cells": [
  {
   "cell_type": "code",
   "execution_count": 6,
   "metadata": {},
   "outputs": [
    {
     "name": "stdout",
     "output_type": "stream",
     "text": [
      "<_io.TextIOWrapper name='teste_open.txt' mode='r' encoding='cp65001'>\n",
      "<class '_io.TextIOWrapper'>\n"
     ]
    }
   ],
   "source": [
    "\"\"\"\n",
    "Primeiro tema de estudos sobre leitura e escrita de arquivos com python.\n",
    "\n",
    "open() é uma função built in que pode possuir diversos parametros, mas só um é obrigatorio.\n",
    "o parametro obrigatorio é o caminho/nome para o arquivo.\n",
    "\"\"\"\n",
    "\n",
    "arquivo = open(\"teste_open.txt\")\n",
    "\n",
    "print(arquivo)\n",
    "\n",
    "print(type(arquivo))"
   ]
  }
 ],
 "metadata": {
  "interpreter": {
   "hash": "9efce205f64ad363cd9f14615485aca38ee4ef0915866e318aa83c8d0c93f6fc"
  },
  "kernelspec": {
   "display_name": "Python 3.10.2 64-bit",
   "language": "python",
   "name": "python3"
  },
  "language_info": {
   "codemirror_mode": {
    "name": "ipython",
    "version": 3
   },
   "file_extension": ".py",
   "mimetype": "text/x-python",
   "name": "python",
   "nbconvert_exporter": "python",
   "pygments_lexer": "ipython3",
   "version": "3.10.2"
  },
  "orig_nbformat": 4
 },
 "nbformat": 4,
 "nbformat_minor": 2
}
