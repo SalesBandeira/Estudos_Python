{
 "cells": [
  {
   "cell_type": "code",
   "execution_count": 9,
   "metadata": {},
   "outputs": [
    {
     "name": "stdout",
     "output_type": "stream",
     "text": [
      "__main__\n"
     ]
    },
    {
     "ename": "ImportError",
     "evalue": "cannot import name 'somar_impares' from 'teste' (c:\\Users\\ACER\\Desktop\\PERSONAL\\DEV\\Python\\projetos\\Estudos\\comprehension\\teste.py)",
     "output_type": "error",
     "traceback": [
      "\u001b[1;31m---------------------------------------------------------------------------\u001b[0m",
      "\u001b[1;31mImportError\u001b[0m                               Traceback (most recent call last)",
      "\u001b[1;32mc:\\Users\\ACER\\Desktop\\PERSONAL\\DEV\\Python\\projetos\\Estudos\\comprehension\\__name__and__main__.ipynb Cell 1'\u001b[0m in \u001b[0;36m<cell line: 10>\u001b[1;34m()\u001b[0m\n\u001b[0;32m      <a href='vscode-notebook-cell:/c%3A/Users/ACER/Desktop/PERSONAL/DEV/Python/projetos/Estudos/comprehension/__name__and__main__.ipynb#ch0000000?line=0'>1</a>\u001b[0m \u001b[39m\"\"\"\u001b[39;00m\n\u001b[0;32m      <a href='vscode-notebook-cell:/c%3A/Users/ACER/Desktop/PERSONAL/DEV/Python/projetos/Estudos/comprehension/__name__and__main__.ipynb#ch0000000?line=1'>2</a>\u001b[0m \u001b[39mAo rodarmos um arquivo python, internamente, o python pega o atributo que todo arquivo possui: __name__ e a ele,\u001b[39;00m\n\u001b[0;32m      <a href='vscode-notebook-cell:/c%3A/Users/ACER/Desktop/PERSONAL/DEV/Python/projetos/Estudos/comprehension/__name__and__main__.ipynb#ch0000000?line=2'>3</a>\u001b[0m \u001b[39matribui o valor: __main__\u001b[39;00m\n\u001b[1;32m   (...)\u001b[0m\n\u001b[0;32m      <a href='vscode-notebook-cell:/c%3A/Users/ACER/Desktop/PERSONAL/DEV/Python/projetos/Estudos/comprehension/__name__and__main__.ipynb#ch0000000?line=5'>6</a>\u001b[0m \n\u001b[0;32m      <a href='vscode-notebook-cell:/c%3A/Users/ACER/Desktop/PERSONAL/DEV/Python/projetos/Estudos/comprehension/__name__and__main__.ipynb#ch0000000?line=6'>7</a>\u001b[0m \u001b[39m\"\"\"\u001b[39;00m\n\u001b[0;32m      <a href='vscode-notebook-cell:/c%3A/Users/ACER/Desktop/PERSONAL/DEV/Python/projetos/Estudos/comprehension/__name__and__main__.ipynb#ch0000000?line=7'>8</a>\u001b[0m \u001b[39mprint\u001b[39m(\u001b[39m__name__\u001b[39m) \u001b[39m# retorna o valor: __main__\u001b[39;00m\n\u001b[1;32m---> <a href='vscode-notebook-cell:/c%3A/Users/ACER/Desktop/PERSONAL/DEV/Python/projetos/Estudos/comprehension/__name__and__main__.ipynb#ch0000000?line=9'>10</a>\u001b[0m \u001b[39mfrom\u001b[39;00m \u001b[39mteste\u001b[39;00m \u001b[39mimport\u001b[39;00m somar_impares\n\u001b[0;32m     <a href='vscode-notebook-cell:/c%3A/Users/ACER/Desktop/PERSONAL/DEV/Python/projetos/Estudos/comprehension/__name__and__main__.ipynb#ch0000000?line=11'>12</a>\u001b[0m somar_impares([\u001b[39m1\u001b[39m,\u001b[39m2\u001b[39m,\u001b[39m3\u001b[39m,\u001b[39m4\u001b[39m,\u001b[39m5\u001b[39m,\u001b[39m6\u001b[39m,\u001b[39m7\u001b[39m,\u001b[39m8\u001b[39m,\u001b[39m9\u001b[39m,\u001b[39m10\u001b[39m,\u001b[39m11\u001b[39m])\n",
      "\u001b[1;31mImportError\u001b[0m: cannot import name 'somar_impares' from 'teste' (c:\\Users\\ACER\\Desktop\\PERSONAL\\DEV\\Python\\projetos\\Estudos\\comprehension\\teste.py)"
     ]
    }
   ],
   "source": [
    "\"\"\"\n",
    "Ao rodarmos um arquivo python, internamente, o python pega o atributo que todo arquivo possui: __name__ e a ele,\n",
    "atribui o valor: __main__\n",
    "\n",
    "\n",
    "é normal utilizar esses atributos para validar se o arquivo que estamos rodando é o principal ou não. \n",
    "\n",
    "Como assim? \n",
    "\n",
    "quando importamos um pacote, normalente esses pacotes possuem a validação \n",
    "    if __name__ = '__main__':\n",
    "        faça;\n",
    "isso faz com que o programa somente rode os comando se estiver rodando de forma principal.\n",
    "Ou seja, se estiver rodando de forma secundária atraves de um import, tal comando não será executado.\n",
    "\n",
    "\"\"\"\n",
    "print(__name__) # retorna o valor: __main__\n"
   ]
  }
 ],
 "metadata": {
  "interpreter": {
   "hash": "9efce205f64ad363cd9f14615485aca38ee4ef0915866e318aa83c8d0c93f6fc"
  },
  "kernelspec": {
   "display_name": "Python 3.10.2 64-bit",
   "language": "python",
   "name": "python3"
  },
  "language_info": {
   "codemirror_mode": {
    "name": "ipython",
    "version": 3
   },
   "file_extension": ".py",
   "mimetype": "text/x-python",
   "name": "python",
   "nbconvert_exporter": "python",
   "pygments_lexer": "ipython3",
   "version": "3.10.2"
  },
  "orig_nbformat": 4
 },
 "nbformat": 4,
 "nbformat_minor": 2
}
