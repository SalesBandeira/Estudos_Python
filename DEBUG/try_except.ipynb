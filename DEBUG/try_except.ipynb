{
 "cells": [
  {
   "cell_type": "code",
   "execution_count": 4,
   "metadata": {},
   "outputs": [
    {
     "name": "stdout",
     "output_type": "stream",
     "text": [
      "o argumento de len precisa ser um iterável\n",
      "o argumento de len precisa ser um iterável object of type 'int' has no len()\n"
     ]
    }
   ],
   "source": [
    "\"\"\"\n",
    "try / except são blocos utilizados para trartar erros no nosso codigo.\n",
    "\n",
    "de forma generica:\n",
    "\n",
    "try:\n",
    "    codigo\n",
    "    codigo\n",
    "    codigo\n",
    "except:\n",
    "    o que deve ser feito caso dê erro.\n",
    "\n",
    "utilizando da forma acima, estamos tratando o erro de forma generica, qualquer erro que vinher a acontecer\n",
    "vai passar pelo except.\n",
    "\n",
    "Uma outra forma de é tipando o erro, dessa foroma deixamos claro o erro que esperamos encontrar.\n",
    "\n",
    "\n",
    "try:\n",
    "    codigo\n",
    "    codigo\n",
    "    codigo\n",
    "except TypeError:\n",
    "    o que deve ser feito caso o codigo retorne TypeErro\n",
    "\n",
    "Dessa forma, caso o erro seja qualquer outro tipo, teremos o retorno da mensagem de erro padrão\n",
    "pois outros erros não serão tratados.\n",
    "\n",
    "\n",
    "o ideal é que não deixemos o except de forma generica. POdemos definir diversos excepts para tratar os diversos erros.\n",
    "\n",
    "\"\"\"\n",
    "\n",
    "try:\n",
    "    len(5)\n",
    "except:\n",
    "    print(f'o argumento de len precisa ser um iterável') #erro tratado\n",
    "\n",
    "\n",
    "try:\n",
    "    len(5)\n",
    "except TypeError as err: # damos um apelido para o retorno do erro\n",
    "    print(f'o argumento de len precisa ser um iterável {err}') # podemos chamar o retorno para identificar o erro\n",
    "\n",
    "try:\n",
    "    len(5)\n",
    "except TypeError as err: # Caso o erro seja TypeError\n",
    "    print(f'o argumento de len precisa ser um iterável {err}') # podemos chamar o retorno para identificar o erro\n",
    "except NameError as err1: # caso o erro seja NameError\n",
    "    print(f'o argumento de len precisa ser um iterável {err1}') # podemos chamar o retorno para identificar o erro"
   ]
  }
 ],
 "metadata": {
  "interpreter": {
   "hash": "9efce205f64ad363cd9f14615485aca38ee4ef0915866e318aa83c8d0c93f6fc"
  },
  "kernelspec": {
   "display_name": "Python 3.10.2 64-bit",
   "language": "python",
   "name": "python3"
  },
  "language_info": {
   "codemirror_mode": {
    "name": "ipython",
    "version": 3
   },
   "file_extension": ".py",
   "mimetype": "text/x-python",
   "name": "python",
   "nbconvert_exporter": "python",
   "pygments_lexer": "ipython3",
   "version": "3.10.2"
  },
  "orig_nbformat": 4
 },
 "nbformat": 4,
 "nbformat_minor": 2
}
