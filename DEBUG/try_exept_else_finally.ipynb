{
 "cells": [
  {
   "cell_type": "code",
   "execution_count": 17,
   "metadata": {},
   "outputs": [
    {
     "data": {
      "text/plain": [
       "0.8695652173913043"
      ]
     },
     "execution_count": 17,
     "metadata": {},
     "output_type": "execute_result"
    }
   ],
   "source": [
    "\"\"\"\n",
    "Quando devemos  codar com mecanismos de tratamentos?\n",
    "    Isso tende a vir com a pratica e a experiencia porém temos boas pratica já de inicio:\n",
    "        - SEMPRE QUE O CODIGO PRECISAR DE UM IMPUT DO USUÁRIO.\n",
    "\n",
    "Else e finally:\n",
    "    O else serve para darmos um comando que somente será executado aso o exceptnão ocorra. Ou seja, caso não tenhamos\n",
    "    erro. \n",
    "    O finnaly por outro lado, é utilizado para darmos um comando que, independente do que ocorra, sempre será utilizado.\n",
    "\n",
    "\"\"\"\n",
    "\n",
    "def dividir(a,b):\n",
    "    try:\n",
    "        return int(a) / int(b)\n",
    "    except ValueError:\n",
    "        print('os valores precisam ser int')\n",
    "    except ZeroDivisionError:\n",
    "        print('Não podemos dividir por zero :(')\n",
    "    \n",
    "    \n",
    "\n",
    "num1 =input('Digite um numero')\n",
    "num2 =input('Digite um numero')\n",
    "\n",
    "dividir(num1,num2)"
   ]
  }
 ],
 "metadata": {
  "interpreter": {
   "hash": "9efce205f64ad363cd9f14615485aca38ee4ef0915866e318aa83c8d0c93f6fc"
  },
  "kernelspec": {
   "display_name": "Python 3.10.2 64-bit",
   "language": "python",
   "name": "python3"
  },
  "language_info": {
   "codemirror_mode": {
    "name": "ipython",
    "version": 3
   },
   "file_extension": ".py",
   "mimetype": "text/x-python",
   "name": "python",
   "nbconvert_exporter": "python",
   "pygments_lexer": "ipython3",
   "version": "3.10.2"
  },
  "orig_nbformat": 4
 },
 "nbformat": 4,
 "nbformat_minor": 2
}
