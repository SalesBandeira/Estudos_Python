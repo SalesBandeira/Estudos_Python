{
 "cells": [
  {
   "cell_type": "code",
   "execution_count": 2,
   "metadata": {},
   "outputs": [
    {
     "ename": "TypeError",
     "evalue": "Nome precisa ser uma string",
     "output_type": "error",
     "traceback": [
      "\u001b[1;31m---------------------------------------------------------------------------\u001b[0m",
      "\u001b[1;31mTypeError\u001b[0m                                 Traceback (most recent call last)",
      "\u001b[1;32mc:\\Users\\ACER\\Desktop\\PERSONAL\\DEV\\Python\\projetos\\Estudos\\comprehension\\raise.ipynb Cell 1'\u001b[0m in \u001b[0;36m<cell line: 19>\u001b[1;34m()\u001b[0m\n\u001b[0;32m     <a href='vscode-notebook-cell:/c%3A/Users/ACER/Desktop/PERSONAL/DEV/Python/projetos/Estudos/comprehension/raise.ipynb#ch0000000?line=14'>15</a>\u001b[0m     \u001b[39melse\u001b[39;00m:\n\u001b[0;32m     <a href='vscode-notebook-cell:/c%3A/Users/ACER/Desktop/PERSONAL/DEV/Python/projetos/Estudos/comprehension/raise.ipynb#ch0000000?line=15'>16</a>\u001b[0m         \u001b[39mreturn\u001b[39;00m \u001b[39mf\u001b[39m\u001b[39m'\u001b[39m\u001b[39mO nome \u001b[39m\u001b[39m{\u001b[39;00mnome\u001b[39m}\u001b[39;00m\u001b[39m vai ser impreso na cor \u001b[39m\u001b[39m{\u001b[39;00mcor\u001b[39m}\u001b[39;00m\u001b[39m \u001b[39m\u001b[39m'\u001b[39m\n\u001b[1;32m---> <a href='vscode-notebook-cell:/c%3A/Users/ACER/Desktop/PERSONAL/DEV/Python/projetos/Estudos/comprehension/raise.ipynb#ch0000000?line=18'>19</a>\u001b[0m colorir(\u001b[39m1\u001b[39;49m,\u001b[39m'\u001b[39;49m\u001b[39mazul\u001b[39;49m\u001b[39m'\u001b[39;49m)\n",
      "\u001b[1;32mc:\\Users\\ACER\\Desktop\\PERSONAL\\DEV\\Python\\projetos\\Estudos\\comprehension\\raise.ipynb Cell 1'\u001b[0m in \u001b[0;36mcolorir\u001b[1;34m(nome, cor)\u001b[0m\n\u001b[0;32m     <a href='vscode-notebook-cell:/c%3A/Users/ACER/Desktop/PERSONAL/DEV/Python/projetos/Estudos/comprehension/raise.ipynb#ch0000000?line=9'>10</a>\u001b[0m \u001b[39mdef\u001b[39;00m \u001b[39mcolorir\u001b[39m(nome, cor):\n\u001b[0;32m     <a href='vscode-notebook-cell:/c%3A/Users/ACER/Desktop/PERSONAL/DEV/Python/projetos/Estudos/comprehension/raise.ipynb#ch0000000?line=10'>11</a>\u001b[0m     \u001b[39mif\u001b[39;00m \u001b[39mtype\u001b[39m(nome) \u001b[39mis\u001b[39;00m \u001b[39mnot\u001b[39;00m \u001b[39mstr\u001b[39m:\n\u001b[1;32m---> <a href='vscode-notebook-cell:/c%3A/Users/ACER/Desktop/PERSONAL/DEV/Python/projetos/Estudos/comprehension/raise.ipynb#ch0000000?line=11'>12</a>\u001b[0m         \u001b[39mraise\u001b[39;00m \u001b[39mTypeError\u001b[39;00m (\u001b[39m'\u001b[39m\u001b[39mNome precisa ser uma string\u001b[39m\u001b[39m'\u001b[39m)\n\u001b[0;32m     <a href='vscode-notebook-cell:/c%3A/Users/ACER/Desktop/PERSONAL/DEV/Python/projetos/Estudos/comprehension/raise.ipynb#ch0000000?line=12'>13</a>\u001b[0m     \u001b[39mif\u001b[39;00m \u001b[39mtype\u001b[39m(cor) \u001b[39mis\u001b[39;00m \u001b[39mnot\u001b[39;00m \u001b[39mstr\u001b[39m:\n\u001b[0;32m     <a href='vscode-notebook-cell:/c%3A/Users/ACER/Desktop/PERSONAL/DEV/Python/projetos/Estudos/comprehension/raise.ipynb#ch0000000?line=13'>14</a>\u001b[0m         \u001b[39mraise\u001b[39;00m \u001b[39mTypeError\u001b[39;00m (\u001b[39m'\u001b[39m\u001b[39mCor precisa ser uma string\u001b[39m\u001b[39m'\u001b[39m)\n",
      "\u001b[1;31mTypeError\u001b[0m: Nome precisa ser uma string"
     ]
    }
   ],
   "source": [
    "\"\"\"\n",
    "Raise:\n",
    "\n",
    "    palavra reservada do python que nos deixa retornar qualquer tipo de erro com uma mensagem personalizada.\n",
    "    pode ser utilizada para orientar os usuários sobre a utilização correta do programa.\n",
    "        - O raise finaliza a função.\n",
    "        - o raise é chamado com sua palavra reservada depois o erro a ser chamado e depois a mensagem de erro entre ()\n",
    "\n",
    "\"\"\"\n",
    "l1 = []\n",
    "n = ''\n",
    "def colorir(nome, cor):\n",
    "    if type(nome) is not str:\n",
    "        raise TypeError ('Nome precisa ser uma string') # retorna o erro definido com a mensagem inserida.\n",
    "    if type(cor) is not str:\n",
    "        raise TypeError ('Cor precisa ser uma string') # retorna o erro definido com a mensagem inserida.\n",
    "    else:\n",
    "        return f'O nome {nome} vai ser impreso na cor {cor} '\n",
    "\n",
    "\n",
    "colorir(1,'azul')"
   ]
  }
 ],
 "metadata": {
  "interpreter": {
   "hash": "9efce205f64ad363cd9f14615485aca38ee4ef0915866e318aa83c8d0c93f6fc"
  },
  "kernelspec": {
   "display_name": "Python 3.10.2 64-bit",
   "language": "python",
   "name": "python3"
  },
  "language_info": {
   "codemirror_mode": {
    "name": "ipython",
    "version": 3
   },
   "file_extension": ".py",
   "mimetype": "text/x-python",
   "name": "python",
   "nbconvert_exporter": "python",
   "pygments_lexer": "ipython3",
   "version": "3.10.2"
  },
  "orig_nbformat": 4
 },
 "nbformat": 4,
 "nbformat_minor": 2
}
