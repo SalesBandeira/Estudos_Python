{
 "cells": [
  {
   "cell_type": "code",
   "execution_count": 13,
   "metadata": {},
   "outputs": [
    {
     "name": "stdout",
     "output_type": "stream",
     "text": [
      "{32, 64, 8, 40, 72, 16, 48, 80, 24, 56}\n",
      "{'i', 'S', 'a', 's', 'd', 'r', 'l', ' ', 'e', 'n', 'B'}\n",
      "{2, 4, 6, 8, 10}\n",
      "{1, 3, 5, 7, 9}\n"
     ]
    }
   ],
   "source": [
    "\"\"\"\n",
    "Set comprehension segue o exata mesmo exemplo de dicts comprehension e lists comprehension.\n",
    "Obviamente, aplicada as particularidades dos sets.\n",
    "\n",
    "\"\"\"\n",
    "\n",
    "lista1 = [1,2,3,4,5,6,7,7,7,8,8,9,9,10,10]\n",
    "\n",
    "set2 = {n*8 for n in lista1}\n",
    "\n",
    "print(set2)\n",
    "\n",
    "nome = 'Sales Bandeira'\n",
    "\n",
    "set1 = {letra for letra in nome}\n",
    "print(set1)\n",
    "\n",
    "pares = {n for n in lista1 if not n % 2}\n",
    "impares = {n for n in lista1 if n % 2}\n",
    "\n",
    "print(pares)\n",
    "print(impares)\n"
   ]
  }
 ],
 "metadata": {
  "interpreter": {
   "hash": "9efce205f64ad363cd9f14615485aca38ee4ef0915866e318aa83c8d0c93f6fc"
  },
  "kernelspec": {
   "display_name": "Python 3.10.2 64-bit",
   "language": "python",
   "name": "python3"
  },
  "language_info": {
   "codemirror_mode": {
    "name": "ipython",
    "version": 3
   },
   "file_extension": ".py",
   "mimetype": "text/x-python",
   "name": "python",
   "nbconvert_exporter": "python",
   "pygments_lexer": "ipython3",
   "version": "3.10.2"
  },
  "orig_nbformat": 4
 },
 "nbformat": 4,
 "nbformat_minor": 2
}
