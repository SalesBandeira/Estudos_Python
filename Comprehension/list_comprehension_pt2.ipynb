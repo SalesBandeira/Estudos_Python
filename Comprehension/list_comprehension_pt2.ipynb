{
 "cells": [
  {
   "cell_type": "code",
   "execution_count": 2,
   "metadata": {},
   "outputs": [
    {
     "name": "stdout",
     "output_type": "stream",
     "text": [
      "[2, 4, 6, 8, 10]\n",
      "[1, 3, 5, 7, 9]\n",
      "[0.5, 4, 1.5, 8, 2.5, 12, 3.5, 16, 4.5, 20]\n"
     ]
    }
   ],
   "source": [
    "\"\"\"\n",
    "List Comprehensions\n",
    "\n",
    "Na comprehension podemos tbm realizar testes logicos com a iteraçao\n",
    "\n",
    "\"\"\"\n",
    "\n",
    "lista1 = list(range(1,11))\n",
    "\n",
    "lista_pares = [i for i in lista1 if i % 2 == 0]\n",
    "lista_impares = [i for i in lista1 if i % 2 != 0]\n",
    "\n",
    "print(lista_pares)\n",
    "print(lista_impares)\n",
    "\n",
    "\n",
    "teste = [i * 2 if i % 2 == 0 else i / 2 for i in lista1]\n",
    "print(teste)\n",
    "\n",
    "\n",
    "\"\"\"\n",
    "Resumo da operá: Em comprehesion eu sempre vou começão informando o valor que irá compor a minha lista. \n",
    "O que vem depois irá depender do que eu preciso no momento. Eu posso aplicar o if depois do for para escolher quais\n",
    "valores pasaram pela iteração, por exemplo. Da mesma forma que eu posso aplicar o if antes do for para aplicar uma \n",
    "condição e alterar a equação que será aplicada a cada loop a depender dos termos da condição. \n",
    "\n",
    "\"\"\""
   ]
  }
 ],
 "metadata": {
  "interpreter": {
   "hash": "9efce205f64ad363cd9f14615485aca38ee4ef0915866e318aa83c8d0c93f6fc"
  },
  "kernelspec": {
   "display_name": "Python 3.10.2 64-bit",
   "language": "python",
   "name": "python3"
  },
  "language_info": {
   "codemirror_mode": {
    "name": "ipython",
    "version": 3
   },
   "file_extension": ".py",
   "mimetype": "text/x-python",
   "name": "python",
   "nbconvert_exporter": "python",
   "pygments_lexer": "ipython3",
   "version": "3.10.2"
  },
  "orig_nbformat": 4
 },
 "nbformat": 4,
 "nbformat_minor": 2
}
