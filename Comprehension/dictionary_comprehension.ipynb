{
 "cells": [
  {
   "cell_type": "code",
   "execution_count": 2,
   "metadata": {},
   "outputs": [
    {
     "name": "stdout",
     "output_type": "stream",
     "text": [
      "{'a': 1, 'b': 2, 'c': 3, 'd': 4, 'e': 5}\n",
      "{'a': 2, 'b': 4, 'c': 6, 'd': 8, 'e': 10}\n"
     ]
    }
   ],
   "source": [
    "\"\"\"\n",
    "um comprehension de um dict funciona de forma praticamente igual ao de lists. A diferença se da na sintaxe do dict.\n",
    "ao inves de [] usamos {} ao inves de simplesmente passarmos o valor a ser incluso, passanmos o conjunto de chave:valor\n",
    "\n",
    "Aplicamos a transformação da mesma forma a diferença é que podemos aplicar duas transformações, uma para a chave e outra\n",
    "para valor. \n",
    "\n",
    "\"\"\"\n",
    "dict1 = {'a':1, 'b':2, 'c':3, 'd':4, 'e':5}\n",
    "\n",
    "dict2 = {chave: valor * 2 for chave, valor in dict1.items()}\n",
    "print(dict1)\n",
    "print(dict2)"
   ]
  },
  {
   "cell_type": "code",
   "execution_count": 14,
   "metadata": {},
   "outputs": [
    {
     "name": "stdout",
     "output_type": "stream",
     "text": [
      "{'aa': 2, 'bb': 4, 'cc': 6, 'dd': 8, 'ee': 10}\n",
      "{'a': 1, 'b': 2, 'c': 3, 'd': 4, 'e': 5}\n"
     ]
    }
   ],
   "source": [
    "\"\"\"\n",
    "Vale ressaltar, que as transformações podem ocorrer tanto no valor qunato na chave.\n",
    "    - sempre separar chave e valor com ':' após o metodo utilizado na transformação dos dados.\n",
    "\"\"\"\n",
    "\n",
    "dict3 = {chave * 2: valor * 2 for chave, valor in dict1.items()}\n",
    "print(dict3)\n",
    "\n",
    "chaves = 'abcde'\n",
    "valores = [1,2,3,4,5]\n",
    "\n",
    "dict4 = {\n",
    "\n",
    "chaves[i]: valores[i] for i in range(0,len(chaves))\n",
    "\n",
    "}\n",
    "\n",
    "\"\"\"\n",
    "Armazeno uma variável i que vai percorrer o range de 0 até a quantidade total de itens em chaves\n",
    "\n",
    "vou adicionar ao novo dict os valores das variáveis chaves e valores buscando o elemento correspondente ao\n",
    "indice de cada um utilizando a variável i.\n",
    "\n",
    "\n",
    "\"\"\"\n",
    "\n",
    "print(dict4)\n",
    "\n"
   ]
  },
  {
   "cell_type": "code",
   "execution_count": 17,
   "metadata": {},
   "outputs": [
    {
     "name": "stdout",
     "output_type": "stream",
     "text": [
      "{1: 'Impar', 2: 'Par', 3: 'Impar', 4: 'Par', 5: 'Impar', 6: 'Par', 7: 'Impar', 8: 'Par', 9: 'Impar', 10: 'Par'}\n"
     ]
    }
   ],
   "source": [
    "\"\"\"\n",
    "Condições logicas em dictionary comprehension:\n",
    "\n",
    "Funciona da mesma forma que em list comprehension. podemos usar as condições para transformar a informação que\n",
    "será adcionada ao dict.\n",
    "\n",
    "\"\"\"\n",
    "list1 = list(range(1,11))\n",
    "dict5 = {num: 'Par' if num % 2 == 0 else 'Impar' for num in list1}\n",
    "print(dict5)\n",
    "\n",
    "\"\"\"\n",
    "Para cada num no range de 1 a 10, vou pegar o valor de num como chave do meu dict. \n",
    "Para o valor irei realizar o teste logico para definir se o valor é impar ou se é par.\n",
    "\n",
    "\"\"\""
   ]
  }
 ],
 "metadata": {
  "interpreter": {
   "hash": "9efce205f64ad363cd9f14615485aca38ee4ef0915866e318aa83c8d0c93f6fc"
  },
  "kernelspec": {
   "display_name": "Python 3.10.2 64-bit",
   "language": "python",
   "name": "python3"
  },
  "language_info": {
   "codemirror_mode": {
    "name": "ipython",
    "version": 3
   },
   "file_extension": ".py",
   "mimetype": "text/x-python",
   "name": "python",
   "nbconvert_exporter": "python",
   "pygments_lexer": "ipython3",
   "version": "3.10.2"
  },
  "orig_nbformat": 4
 },
 "nbformat": 4,
 "nbformat_minor": 2
}
