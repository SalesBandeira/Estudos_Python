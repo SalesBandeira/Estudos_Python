{
 "cells": [
  {
   "cell_type": "code",
   "execution_count": 18,
   "metadata": {},
   "outputs": [
    {
     "name": "stdout",
     "output_type": "stream",
     "text": [
      "[1, 2, 3]\n",
      "[7, 8, 9]\n",
      "3\n",
      "1\n"
     ]
    }
   ],
   "source": [
    "\"\"\"\n",
    "Nested Lists\n",
    "\n",
    "Na grande maioria das liguagens temos uma estrutura de dados chamada de Array que pode ser unidimensional (Arrays e vetores)\n",
    "ou multidimensional (matrizes). No python isso funciona de forma diverente. Não temos Arrays, temos as coleções Python\n",
    "Listas, tuplas, bibliotecas... \n",
    "\n",
    "matrizes em python sãos as listas aninhadas.\n",
    "\n",
    "Lista aninhada nada mais é do que uma lista onde os elementos da mesma são outras listas.\n",
    "\"\"\"\n",
    "\n",
    "# podemos pensar em listas aninhadas como uma tabela/matriz do excel/sheets. para acessa-los utilizamos esse exeplo onde\n",
    "# o indice de cada lista é o numero da linha em que estão alocados na tabela e o indice de cada elemento dessas sublistas \n",
    "# é a coluna da tabela. Ou seja as listas ficam uma abaixo da outra de forma sequencial.\n",
    "#Ex:\n",
    "lista1 = [[1,2,3],[4,5,6],[7,8,9]] # Uma lista 3x3 \n",
    "\n",
    "# podemos ler essa lista da seguinte forma\n",
    "\n",
    "#          coluna 0 coluna 1 coluna 2\n",
    "# linha 0     1        2        3\n",
    "# linha 1     4        5        6\n",
    "# linha 2     7        8        9\n",
    "\n",
    "#para acessar um valor em uma nested list precisamos informar o indice da linha e o indice da coluna. se informar-mos\n",
    "# apenas a linha teremos como retorno toda a linha da matriz.\n",
    "\n",
    "print(lista1[0]) # imprime toda a primeira linha da matriz\n",
    "print(lista1[2]) #imprime to a terceira linha da matriz\n",
    "\n",
    "print(lista1[0][2]) # imprime o elemento localizado na terceira coluna da primeira linha\n",
    "print(lista1[0][0]) # imprime a primeira coluna da primeira linha\n",
    "\n",
    "\n"
   ]
  },
  {
   "cell_type": "code",
   "execution_count": 31,
   "metadata": {},
   "outputs": [
    {
     "name": "stdout",
     "output_type": "stream",
     "text": [
      "1\n",
      "2\n",
      "3\n",
      "4\n",
      "5\n",
      "6\n",
      "7\n",
      "8\n",
      "9\n",
      "1\n",
      "2\n",
      "3\n",
      "4\n",
      "5\n",
      "6\n",
      "7\n",
      "8\n",
      "9\n",
      "10\n",
      "20\n",
      "30\n",
      "40\n",
      "50\n",
      "60\n",
      "70\n",
      "80\n",
      "90\n",
      "[[1, 2, 3], [1, 2, 3], [1, 2, 3]]\n"
     ]
    }
   ],
   "source": [
    "# Para iterar em cada um dos subelementos precisamos de dois For.\n",
    "\n",
    "for l in lista1: # criamos a variavel 'l' que que vai guardar cada uma das listas presente em lista1, uma de cada vez\n",
    "    for sl in l: # em cada uma das listas, a variável 'sl' vai percorrer cada um dos elementos o guardando um de cada vez\n",
    "        print(sl) # a cada loop imprimimos o valor de sl\n",
    "\n",
    "# podemos fazer a mesma coisa utilizando uma list comprehension\n",
    "\n",
    "[[print(num) for num in lista] for lista in lista1] # explicação abaixo\n",
    "\n",
    "\"\"\"\n",
    "A complexidade dessa comprehension requer duas list comprehension blocadas, cada uma com sua função.\n",
    "    1 parte: [print(num) for num in lista] como já estudado anteriormente, podemos usar qualquer metodo com a variável\n",
    "        que pasara pela transformação e ela sempre vem como a primeira parte da comprehension nesse caso falamos que\n",
    "        o que será feito com a variável é a utilização da função print. para cada numero em lista, imprima o numero.\n",
    "        Porém, lista é uma variável que ainda não exiete, portanto precisamos cria-la\n",
    "    2 parte: da variável lista1 extraimos umanova váriável chamada de lista, essa que por sua vez, a cada loop, irá\n",
    "        adquirir o valor de cada uma das listas que compõe lista1.\n",
    "\n",
    "    Os dois conjuntos de colchetes servem para deixar claro o que deve ser feito. imprimimos num para cada num de lista\n",
    "    a busca pela lista dentro de lista1 deve ocorrer de forma independente. \n",
    "\n",
    "\"\"\"\n",
    "\n",
    "lista2 = [[print(num*10) for num in lista] for lista in lista1]\n",
    "\n",
    "\n",
    "# um macete para entendermos melhor o funcionamento de comprehensions é ler as instruções da ultima para a primeira.\n",
    "\n",
    "copia_lista1 = [[n for n in range(1,4)] for i in range(0,3)] \n",
    "\n",
    "\"\"\"\n",
    "estou guardando o valor de n para cada n no range definido (1 a 4), e faço isso para cada i no range de 1 a 3\n",
    "\n",
    "\"\"\"\n",
    "print(copia_lista1)\n"
   ]
  },
  {
   "cell_type": "code",
   "execution_count": 32,
   "metadata": {},
   "outputs": [
    {
     "name": "stdout",
     "output_type": "stream",
     "text": [
      "[['O', 'X', 'O'], ['O', 'X', 'O'], ['O', 'X', 'O']]\n"
     ]
    }
   ],
   "source": [
    "\n",
    "\n",
    "jogo_velha = [['X' if n % 2 == 0 else 'O' for n in range(1,4)]for vez in range(0,3)]\n",
    "print(jogo_velha)\n",
    "\n",
    "\"\"\"\n",
    "Para cada n no range de 1 a 4, se o resto da divisão de n por 2 for igual a 0 irei guardar o 'X', se não, irei guardar\n",
    "o 'O'. Farei isso para cada vez no range de 0 a 3.\n",
    "\n",
    "\"\"\""
   ]
  }
 ],
 "metadata": {
  "interpreter": {
   "hash": "9efce205f64ad363cd9f14615485aca38ee4ef0915866e318aa83c8d0c93f6fc"
  },
  "kernelspec": {
   "display_name": "Python 3.10.2 64-bit",
   "language": "python",
   "name": "python3"
  },
  "language_info": {
   "codemirror_mode": {
    "name": "ipython",
    "version": 3
   },
   "file_extension": ".py",
   "mimetype": "text/x-python",
   "name": "python",
   "nbconvert_exporter": "python",
   "pygments_lexer": "ipython3",
   "version": "3.10.2"
  },
  "orig_nbformat": 4
 },
 "nbformat": 4,
 "nbformat_minor": 2
}
