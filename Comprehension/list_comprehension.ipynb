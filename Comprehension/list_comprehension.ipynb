{
 "cells": [
  {
   "cell_type": "code",
   "execution_count": 11,
   "metadata": {},
   "outputs": [
    {
     "name": "stdout",
     "output_type": "stream",
     "text": [
      "[1, 2, 3, 4, 5, 6, 7, 8, 9, 10]\n",
      "[10, 20, 30, 40, 50, 60, 70, 80, 90, 100]\n",
      "[5.0, 10.0, 15.0, 20.0, 25.0, 30.0, 35.0, 40.0, 45.0, 50.0]\n",
      "[2.5, 5.0, 7.5, 10.0, 12.5, 15.0, 17.5, 20.0, 22.5, 25.0]\n",
      "[6.25, 25.0, 56.25, 100.0, 156.25, 225.0, 306.25, 400.0, 506.25, 625.0]\n"
     ]
    }
   ],
   "source": [
    "\"\"\"\n",
    "De forma SImples comprehension nada mais é do que criar coleções apartir dos dados de outras coleções. \n",
    "\n",
    "List comprehension:  \n",
    "\n",
    "Temos uma lista(lista1) definida com os valores de 1 a 10. podemos gerar uma comprehension a partir dessa lista \n",
    "da seguinte forma.\n",
    "\"\"\"\n",
    "\n",
    "lista1 = list(range(1,11))\n",
    "\n",
    "lista2 = [i * 10 for i in lista1]\n",
    "\n",
    "print(lista1)\n",
    "print(lista2)\n",
    "\n",
    "\"\"\"\n",
    "o calculo da comprehension pode ser dividido em duas partes:\n",
    "\n",
    "    1 - o que será feito:\n",
    "        todo esse processo é feito com base no for, porém, antes do for devemos informar a expresão que será utilizada \n",
    "        em cada elemento iterável que será percorrido. portanto: [i * 10 for]\n",
    "    2 - a partir de quais dados será feito:\n",
    "        Aqui o for entra em ação. Informação  de qual lista o for vai extrair a informação que será calculada para que \n",
    "        possamos obter a nova lista.\n",
    "\n",
    "Descrição: Temos que realizar um for  em alguma coleção e fazer com que a variável do for passe por alguma transformação\n",
    "a cada loop em seus elementos. O retorno será a list comprehension.\n",
    "\n",
    "\"\"\"\n",
    "\n",
    "list3 = [i / 2 for i in lista2]\n",
    "\n",
    "print(list3)\n",
    "\n",
    "lista4 = [i/2 for i in list3]\n",
    "\n",
    "print(lista4)\n",
    "\n",
    "\n"
   ]
  },
  {
   "cell_type": "code",
   "execution_count": 12,
   "metadata": {},
   "outputs": [
    {
     "name": "stdout",
     "output_type": "stream",
     "text": [
      "[6.25, 25.0, 56.25, 100.0, 156.25, 225.0, 306.25, 400.0, 506.25, 625.0]\n"
     ]
    }
   ],
   "source": [
    "\"\"\"\n",
    "o que será feito com cada elemento iterável é da escolha do usuário, podemos relizar qualquer equação da forma que \n",
    "acharmos melhor. Podemos inclusive definir uma função que ira transforma cada um dos iteráveis. como o exemplo abaixo.\n",
    "\"\"\"\n",
    "\n",
    "def quadrado(valor):\n",
    "    return valor * valor\n",
    "\n",
    "lista5 = [quadrado(i) for i in lista4]\n",
    "\n",
    "print(lista5)"
   ]
  },
  {
   "cell_type": "code",
   "execution_count": 19,
   "metadata": {},
   "outputs": [
    {
     "name": "stdout",
     "output_type": "stream",
     "text": [
      "[1, 2, 3, 4, 5, 6, 7, 8, 9, 10]\n",
      "[]\n",
      "[2, 4, 6, 8, 10, 12, 14, 16, 18, 20]\n"
     ]
    }
   ],
   "source": [
    "\"\"\"\n",
    "Exemplo do mesmo processo sendo feito por um for de forma \"manual\":\n",
    "\n",
    "\"\"\"\n",
    "\n",
    "lista6 = list(range(1,11))\n",
    "print(lista6)\n",
    "\n",
    "lista_dobrada = []\n",
    "print(lista_dobrada)\n",
    "for i in lista6: # lopp na lista original\n",
    "    i *= 2 # Equação à ser realizada conforme o loop\n",
    "    lista_dobrada.append(i) # inclusão dos novos valores na lista\n",
    "print(lista_dobrada)\n",
    "\n",
    "\"\"\"\n",
    "No exemplo acima, nos utilizamos 3 linhas de codigo para realizar o mesmo processo que o compreension faz em 1 linha.\n",
    "\"\"\""
   ]
  },
  {
   "cell_type": "code",
   "execution_count": 26,
   "metadata": {},
   "outputs": [
    {
     "name": "stdout",
     "output_type": "stream",
     "text": [
      "['S', 'A', 'L', 'E', 'S', ' ', 'B', 'A', 'N', 'D', 'E', 'I', 'R', 'A']\n",
      "['s', 'a', 'l', 'e', 's', ' ', 'b', 'a', 'n', 'd', 'e', 'i', 'r', 'a']\n",
      "[['S'], ['a'], ['l'], ['e'], ['s'], [], ['B'], ['a'], ['n'], ['d'], ['e'], ['i'], ['r'], ['a']]\n",
      "['Maria', 'João', 'Hugo', 'Vitoria']\n"
     ]
    }
   ],
   "source": [
    "\"\"\"\n",
    "A transformação pela qual a variável irá passar pode ser calculos e tbm métodos.\n",
    "Por exemplo, se o iterável for um string, podemos utilizar os metodos exclusivos de string para transforma o novo dado.\n",
    "Estamos falando de .upper .split . lower e etc..\n",
    "\"\"\"\n",
    "\n",
    "lista7 = list('Sales Bandeira')\n",
    "\n",
    "print([letra.upper() for letra in lista7])\n",
    "print([letra.lower() for letra in lista7])\n",
    "print([letra.split() for letra in lista7])\n",
    "\n",
    "lista_nomes = ['maria', 'joão', 'hugo', 'vitoria']\n",
    "\n",
    "lista_upper = [i.title() for i in lista_nomes]\n",
    "\n",
    "print(lista_upper)"
   ]
  }
 ],
 "metadata": {
  "interpreter": {
   "hash": "9efce205f64ad363cd9f14615485aca38ee4ef0915866e318aa83c8d0c93f6fc"
  },
  "kernelspec": {
   "display_name": "Python 3.10.2 64-bit",
   "language": "python",
   "name": "python3"
  },
  "language_info": {
   "codemirror_mode": {
    "name": "ipython",
    "version": 3
   },
   "file_extension": ".py",
   "mimetype": "text/x-python",
   "name": "python",
   "nbconvert_exporter": "python",
   "pygments_lexer": "ipython3",
   "version": "3.10.2"
  },
  "orig_nbformat": 4
 },
 "nbformat": 4,
 "nbformat_minor": 2
}
