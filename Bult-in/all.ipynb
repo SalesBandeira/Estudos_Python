{
 "cells": [
  {
   "cell_type": "code",
   "execution_count": 2,
   "metadata": {},
   "outputs": [
    {
     "name": "stdout",
     "output_type": "stream",
     "text": [
      "False\n",
      "True\n"
     ]
    }
   ],
   "source": [
    "\"\"\"\n",
    "\n",
    "all : Retorna True se todas se TOOS os elementos do iterável foerm verdadeiro ou se estiver vazio.\n",
    "\n",
    "\"\"\"\n",
    "\n",
    "l1 = [0,1,2,3,4]\n",
    "l2 = [1,2,3,4,5]\n",
    "#ex1 \n",
    "print(all(l1))\n",
    "print(all(l2))"
   ]
  },
  {
   "cell_type": "code",
   "execution_count": 6,
   "metadata": {},
   "outputs": [
    {
     "name": "stdout",
     "output_type": "stream",
     "text": [
      "False\n",
      "True\n"
     ]
    }
   ],
   "source": [
    "\"\"\"\n",
    "A força do all surge o utilizando em comprehensions\n",
    "\n",
    "Um ponto de atenção.\n",
    "    All considera uma coleção vazia como um elemento True. Portanto devemos nos atentar\n",
    "\"\"\"\n",
    "print(all([n == 2 for n in l2]))\n",
    "\n",
    "nomes = ['carla', 'caio', 'caique', 'cauan']\n",
    "\n",
    "print(all([nome[0] == 'c' for nome in nomes])) # verifica se a primeira letra de cada nome é um 'c' e cria um lista."
   ]
  }
 ],
 "metadata": {
  "interpreter": {
   "hash": "9efce205f64ad363cd9f14615485aca38ee4ef0915866e318aa83c8d0c93f6fc"
  },
  "kernelspec": {
   "display_name": "Python 3.10.2 64-bit",
   "language": "python",
   "name": "python3"
  },
  "language_info": {
   "codemirror_mode": {
    "name": "ipython",
    "version": 3
   },
   "file_extension": ".py",
   "mimetype": "text/x-python",
   "name": "python",
   "nbconvert_exporter": "python",
   "pygments_lexer": "ipython3",
   "version": "3.10.2"
  },
  "orig_nbformat": 4
 },
 "nbformat": 4,
 "nbformat_minor": 2
}
