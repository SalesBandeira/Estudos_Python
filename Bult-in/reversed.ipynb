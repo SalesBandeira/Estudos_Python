{
 "cells": [
  {
   "cell_type": "code",
   "execution_count": 3,
   "metadata": {},
   "outputs": [
    {
     "name": "stdout",
     "output_type": "stream",
     "text": [
      "[0, 1, 2, 3, 4, 5, 6, 7, 8, 9, 10]\n",
      "<list_reverseiterator object at 0x00000207EBC13850>\n"
     ]
    }
   ],
   "source": [
    "\"\"\"\n",
    "reversed() é diferente de .reverse\n",
    "\n",
    "    - .reverse é um metodo somente aplicado a listas.\n",
    "    - .reverse altera o conjunto em sí, enquanto reversed gera um novo objeto do dtype list_reverseiterator\n",
    "\n",
    "o elemento gerado pelo reversed é um iterável normal e pode ser acessado normalmente.\n",
    "\n",
    "na maioria das vezes vai ser mais pratico utilizar o slice ou os proprios metodos de range\n",
    "\n",
    "\"\"\"\n",
    "\n",
    "l1 = list(range(11))\n",
    "\n",
    "print(l1)\n",
    "\n",
    "print(reversed(l1))"
   ]
  }
 ],
 "metadata": {
  "interpreter": {
   "hash": "9efce205f64ad363cd9f14615485aca38ee4ef0915866e318aa83c8d0c93f6fc"
  },
  "kernelspec": {
   "display_name": "Python 3.10.2 64-bit",
   "language": "python",
   "name": "python3"
  },
  "language_info": {
   "codemirror_mode": {
    "name": "ipython",
    "version": 3
   },
   "file_extension": ".py",
   "mimetype": "text/x-python",
   "name": "python",
   "nbconvert_exporter": "python",
   "pygments_lexer": "ipython3",
   "version": "3.10.2"
  },
  "orig_nbformat": 4
 },
 "nbformat": 4,
 "nbformat_minor": 2
}
