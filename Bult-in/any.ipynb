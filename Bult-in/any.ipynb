{
 "cells": [
  {
   "cell_type": "code",
   "execution_count": 4,
   "metadata": {},
   "outputs": [
    {
     "name": "stdout",
     "output_type": "stream",
     "text": [
      "True\n",
      "True\n",
      "False\n",
      "False\n"
     ]
    }
   ],
   "source": [
    "\"\"\"\n",
    "\n",
    "any: Uma função built in que retorna treu se qualquer um dos elementos de uma coleção for verdadeiro.\n",
    "Ponto de atenção, o any considera coleções vazias como elementos false\n",
    "\n",
    "\"\"\"\n",
    "\n",
    "l1 = [0,1,2,3,4]\n",
    "\n",
    "print(any(l1))\n",
    "\n",
    "l2 = [True, False, False, False]\n",
    "\n",
    "print(any(l2))\n",
    "\n",
    "l3 = [False, False, False]\n",
    "\n",
    "print(any(l3))\n",
    "\n",
    "l4 = []\n",
    "\n",
    "print(any(l4))"
   ]
  }
 ],
 "metadata": {
  "interpreter": {
   "hash": "9efce205f64ad363cd9f14615485aca38ee4ef0915866e318aa83c8d0c93f6fc"
  },
  "kernelspec": {
   "display_name": "Python 3.10.2 64-bit",
   "language": "python",
   "name": "python3"
  },
  "language_info": {
   "codemirror_mode": {
    "name": "ipython",
    "version": 3
   },
   "file_extension": ".py",
   "mimetype": "text/x-python",
   "name": "python",
   "nbconvert_exporter": "python",
   "pygments_lexer": "ipython3",
   "version": "3.10.2"
  },
  "orig_nbformat": 4
 },
 "nbformat": 4,
 "nbformat_minor": 2
}
