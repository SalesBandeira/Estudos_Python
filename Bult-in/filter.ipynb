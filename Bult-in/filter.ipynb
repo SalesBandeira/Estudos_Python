{
 "cells": [
  {
   "cell_type": "code",
   "execution_count": 10,
   "metadata": {},
   "outputs": [
    {
     "name": "stdout",
     "output_type": "stream",
     "text": [
      "[4, 5, 6]\n"
     ]
    }
   ],
   "source": [
    "\"\"\"\n",
    "FIlter\n",
    "\n",
    "Igual ao maps, recebe dois parametros, uma função e um iterável. \n",
    "o elemento de cada iterável vai serir de argumento para a função, um por vez. Se o retorno for True, ira compor o resultado\n",
    "se não, não irá compor. Simples.\n",
    "Gera um objeto dtype filter\n",
    "\n",
    "\n",
    "\"\"\"\n",
    "import statistics \n",
    "\n",
    "t1 = (1,2,3,4,5,6)\n",
    "\n",
    "media = statistics.mean(t1)\n",
    "\n",
    "filtro1 = filter(lambda x: x > media ,t1)\n",
    "print(list(filtro1))\n",
    "\n",
    "\"\"\"\n",
    "No exemplo acima o filter realiza a comparação se, o elemento da tupla t1 é maior que a média dos elementos de t1\n",
    "se for, seu valor irá compor os elementos de filtro1. \n",
    "\"\"\""
   ]
  },
  {
   "cell_type": "code",
   "execution_count": 15,
   "metadata": {},
   "outputs": [
    {
     "name": "stdout",
     "output_type": "stream",
     "text": [
      "['', 'br', 'usa', 'ca', 'mex', '']\n",
      "['br', 'usa', 'ca', 'mex']\n",
      "[]\n"
     ]
    }
   ],
   "source": [
    "'''\n",
    "Igual ao map, o retorno de filter somente ocorre uma única vez.\n",
    "as funções utilizadas no filter sempre devem ter retorno\n",
    "\n",
    "'''\n",
    "\n",
    "paises = ['','br', 'usa', 'ca', 'mex', '',]\n",
    "\n",
    "paises2 = filter(lambda x: x != '', paises)\n",
    "\n",
    "print(paises)\n",
    "print(list(paises2))\n",
    "print(list(paises2))\n"
   ]
  },
  {
   "cell_type": "code",
   "execution_count": 50,
   "metadata": {},
   "outputs": [
    {
     "name": "stdout",
     "output_type": "stream",
     "text": [
      "[{'usuário': 'Fernanda', 'Tweets': []}]\n"
     ]
    }
   ],
   "source": [
    "\"\"\"\n",
    "Para reforçar. O filter é um metodo que busca um resultado True de uma função para guardar ou não o valor iterado.\n",
    "\n",
    "\n",
    "\"\"\"\n",
    "\n",
    "user = [\n",
    "    {'usuário': 'Lucas', 'Tweets': ['aaaa','ssc']},\n",
    "    {'usuário': 'Fernanda', 'Tweets': []},\n",
    "    {'usuário': 'Danny', 'Tweets': ['asd', 'sase']}\n",
    "]\n",
    "\n",
    "\"\"\" Filtrar usuários com tweets vazios.\"\"\"\n",
    "\n",
    "\n",
    "user_fil = filter(lambda x: x['Tweets'] == [],user)\n",
    "\n",
    "print(list(user_fil))"
   ]
  }
 ],
 "metadata": {
  "interpreter": {
   "hash": "9efce205f64ad363cd9f14615485aca38ee4ef0915866e318aa83c8d0c93f6fc"
  },
  "kernelspec": {
   "display_name": "Python 3.10.2 64-bit",
   "language": "python",
   "name": "python3"
  },
  "language_info": {
   "name": "python",
   "version": "3.10.2"
  },
  "orig_nbformat": 4
 },
 "nbformat": 4,
 "nbformat_minor": 2
}
