{
 "cells": [
  {
   "cell_type": "code",
   "execution_count": 5,
   "metadata": {},
   "outputs": [
    {
     "name": "stdout",
     "output_type": "stream",
     "text": [
      "55\n",
      "55\n"
     ]
    }
   ],
   "source": [
    "\"\"\"\n",
    "reduce()\n",
    "\n",
    "Reduce já foi uma função built-in, porém a partir do python 3 ele começou a fazer parte da biblioteca functools.\n",
    "\n",
    "Como funciona? nada mais é do que uma função que recebe dois argumentos (igual map e filter), uma função e um iterável.\n",
    "A diferença é que a função dada como argumento deve possuir dois parametros.\n",
    "\n",
    "Qual a ação? reduce aplica a função para todos os elementos da iteração de forma comulativa em seus resultados.\n",
    "Ou seja, é um loop for onde a cada rodada o seu resultado vai ser utilizado como argumento. Sempre acumulando os resultados.\n",
    "\n",
    "\"\"\"\n",
    "\n",
    "from functools import reduce\n",
    "\n",
    "lista1 = [1,2,3,4,5,6,7,8,9,10]\n",
    "\n",
    "ex1 = reduce(lambda x, y: x + y,lista1)\n",
    "\n",
    "print(ex1)\n",
    "\n",
    "total = 0\n",
    "for x in lista1:\n",
    "    total += x \n",
    "print(total)"
   ]
  }
 ],
 "metadata": {
  "interpreter": {
   "hash": "9efce205f64ad363cd9f14615485aca38ee4ef0915866e318aa83c8d0c93f6fc"
  },
  "kernelspec": {
   "display_name": "Python 3.10.2 64-bit",
   "language": "python",
   "name": "python3"
  },
  "language_info": {
   "codemirror_mode": {
    "name": "ipython",
    "version": 3
   },
   "file_extension": ".py",
   "mimetype": "text/x-python",
   "name": "python",
   "nbconvert_exporter": "python",
   "pygments_lexer": "ipython3",
   "version": "3.10.2"
  },
  "orig_nbformat": 4
 },
 "nbformat": 4,
 "nbformat_minor": 2
}
