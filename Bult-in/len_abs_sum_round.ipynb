{
 "cells": [
  {
   "cell_type": "code",
   "execution_count": 1,
   "metadata": {},
   "outputs": [
    {
     "name": "stdout",
     "output_type": "stream",
     "text": [
      "10\n"
     ]
    }
   ],
   "source": [
    "\"\"\"\n",
    "len retorna o tamanho no caso, o numero de elementos de um iterável. \n",
    "\n",
    "aplicação:\n",
    "\n",
    "ex = len(range(0,10))\n",
    "\n",
    "out: ex = 10\n",
    "\n",
    "\"\"\"\n",
    "\n",
    "l1 = range(10)\n",
    "print(len(l1))"
   ]
  },
  {
   "cell_type": "code",
   "execution_count": 5,
   "metadata": {},
   "outputs": [
    {
     "name": "stdout",
     "output_type": "stream",
     "text": [
      "1.56\n",
      "2\n",
      "6\n",
      "5\n"
     ]
    }
   ],
   "source": [
    "\"\"\"\n",
    "abs retorna o valor absoluto de um valor inteiro ou real.\n",
    "Basicamente retorna o o modulo do numero.\n",
    "\n",
    "\"\"\"\n",
    "\n",
    "a1 = -1.56\n",
    "a2 = -2\n",
    "a3 = -6\n",
    "a4 = 5\n",
    "\n",
    "print(abs(a1))\n",
    "print(abs(a2))\n",
    "print(abs(a3))\n",
    "print(abs(a4))"
   ]
  },
  {
   "cell_type": "code",
   "execution_count": 13,
   "metadata": {},
   "outputs": [
    {
     "name": "stdout",
     "output_type": "stream",
     "text": [
      "45\n",
      "55\n"
     ]
    }
   ],
   "source": [
    "\"\"\"\n",
    "sum\n",
    "\n",
    "realiza a soma de todos os elementos de um iterável.\n",
    "podemos passar, alem do iterável, um numero inicial que tbm será incluso na soma. \n",
    "\n",
    "\"\"\"\n",
    "l1 = list(range(10))\n",
    "print(sum(l1)) # soma todos os elementos da lita: 1 + 2 + 3 + 4 + 5 + 6 + 7 + 8 + 9\n",
    "print(sum(l1,10)) # soma todos os elementos da lita: 1 + 2 + 3 + 4 + 5 + 6 + 7 + 8 + 9 a partir do num inicial 10\n",
    "\n"
   ]
  },
  {
   "cell_type": "code",
   "execution_count": 16,
   "metadata": {},
   "outputs": [
    {
     "name": "stdout",
     "output_type": "stream",
     "text": [
      "2\n",
      "1\n",
      "2\n",
      "1.5\n"
     ]
    }
   ],
   "source": [
    "\"\"\"\n",
    "round\n",
    "\n",
    "vai arrendondar o numero para o inteiro mais proximo ou para a quantidade de casas decimais declaradas.\n",
    "\n",
    "\"\"\"\n",
    "\n",
    "print(round(1.504826)) # inteiro mais proximo\n",
    "print(round(1.345648)) # inteiro mais proximo\n",
    "print(round(2.2548368)) # inteiro mais proximo\n",
    "print(round(1.50456823,2)) # arredonda para duas casas decimais."
   ]
  }
 ],
 "metadata": {
  "interpreter": {
   "hash": "9efce205f64ad363cd9f14615485aca38ee4ef0915866e318aa83c8d0c93f6fc"
  },
  "kernelspec": {
   "display_name": "Python 3.10.2 64-bit",
   "language": "python",
   "name": "python3"
  },
  "language_info": {
   "codemirror_mode": {
    "name": "ipython",
    "version": 3
   },
   "file_extension": ".py",
   "mimetype": "text/x-python",
   "name": "python",
   "nbconvert_exporter": "python",
   "pygments_lexer": "ipython3",
   "version": "3.10.2"
  },
  "orig_nbformat": 4
 },
 "nbformat": 4,
 "nbformat_minor": 2
}
