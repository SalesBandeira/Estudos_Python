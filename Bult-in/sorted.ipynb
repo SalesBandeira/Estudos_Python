{
 "cells": [
  {
   "cell_type": "code",
   "execution_count": 13,
   "metadata": {},
   "outputs": [
    {
     "name": "stdout",
     "output_type": "stream",
     "text": [
      "[[5, 6], [8, 1, 3], [11, 10, 26, 2]]\n",
      "[[5, 6], [8, 1, 3], [11, 10, 26, 2]]\n",
      "{1, 2, 3, 5, 6, 8, 10, 26}\n",
      "[1, 2, 3, 5, 6, 8, 10, 26]\n",
      "(5, 6, 8, 1, 3, 10, 26, 2)\n",
      "[1, 2, 3, 5, 6, 8, 10, 26]\n",
      "<class 'list'>\n",
      "<class 'list'>\n",
      "[[11, 10, 26, 2], [8, 1, 3], [5, 6]]\n"
     ]
    }
   ],
   "source": [
    "\"\"\"\n",
    "Sorted é uma função built-in que irá ordenar os dados de um iterável.\n",
    "            sorted != .sort\n",
    "    - .sort é um método que organiza o iteravel em si\n",
    "    - sorted() é uma função que vai gerar um novo conjunto, ordenado, com os dados de um iterável.\n",
    "    - .sort somente aceita listas.\n",
    "    - sorted pode ser utilizado com qualquer iterável.\n",
    "    - sorted SEMPRE gera uma lista. SEMPRE. independente se o iterável dado como argumento seja uma tuplas, set, dict...\n",
    "\"\"\"\n",
    "\n",
    "#ex: \n",
    "\n",
    "l1 = [[5,6],[8,1,3],[11,10,26,2]]\n",
    "s1 = {5,6,8,1,3,10,26,2}\n",
    "t1 = (5,6,8,1,3,10,26,2)\n",
    "\n",
    "print(l1)\n",
    "print(sorted(l1)) # retorna uma lista ordenada com os dados da lista\n",
    "print(s1)\n",
    "print(sorted(s1))  # retorna uma lista ordenada com os dados do set\n",
    "print(t1)\n",
    "print(sorted(t1))  # retorna uma lista ordenada com os dados da tupla\n",
    "\n",
    "print(type(sorted(t1)))\n",
    "print(type(sorted(s1)))\n",
    "\n"
   ]
  },
  {
   "cell_type": "code",
   "execution_count": 17,
   "metadata": {},
   "outputs": [
    {
     "name": "stdout",
     "output_type": "stream",
     "text": [
      "[[5, 6], [8, 1, 3], [11, 10, 26, 2]]\n",
      "[[11, 10, 26, 2], [8, 1, 3], [5, 6]]\n",
      "[[5, 6], [11, 10, 26, 2], [8, 1, 3]]\n",
      "[[11, 10, 26, 2], [8, 1, 3], [5, 6]]\n",
      "[[5, 6], [8, 1, 3], [11, 10, 26, 2]]\n"
     ]
    }
   ],
   "source": [
    "\"\"\"\n",
    "Podemos utilizar dois argumentos no sorted\n",
    "\n",
    "    1 - reverse: True ou False. Se True vai inverter a ordem.\n",
    "    2 - key: recebe uma função para personalizar a ordem do sorted.\n",
    "\n",
    "\"\"\"\n",
    "print(sorted(l1)) # imprime a lista ordenada de l1\n",
    "print(sorted(l1,reverse=True)) # imprime a lista de l1 ordenada de forma inversa.\n",
    "print(sorted(l1,reverse=True, key=min)) # imprime a lista de l1 ordenada de forma inversa porém, como key do menor para o maior\n",
    "print(sorted(l1,reverse=True, key=max)) # imprime a lista de l1 ordenada de forma inversa porém, como key do maior para o menor\n",
    "print(sorted(l1,reverse=False, key=len)) # o reverse como False é desnecessário, pois esse é o default da função"
   ]
  },
  {
   "cell_type": "code",
   "execution_count": 22,
   "metadata": {},
   "outputs": [
    {
     "name": "stdout",
     "output_type": "stream",
     "text": [
      "[[5, 6], [8, 1, 3], [11, 10, 26, 2]]\n"
     ]
    }
   ],
   "source": [
    "\"\"\"\n",
    "Podemos chamar qualquer função com key, incluindo lambdas\n",
    "\n",
    "\"\"\"\n",
    "\n",
    "print(sorted(l1,key=lambda x: x[0])) # ordena os dados da l1 levando em consideração o primeiro elemento das sub-listas"
   ]
  }
 ],
 "metadata": {
  "interpreter": {
   "hash": "9efce205f64ad363cd9f14615485aca38ee4ef0915866e318aa83c8d0c93f6fc"
  },
  "kernelspec": {
   "display_name": "Python 3.10.2 64-bit",
   "language": "python",
   "name": "python3"
  },
  "language_info": {
   "codemirror_mode": {
    "name": "ipython",
    "version": 3
   },
   "file_extension": ".py",
   "mimetype": "text/x-python",
   "name": "python",
   "nbconvert_exporter": "python",
   "pygments_lexer": "ipython3",
   "version": "3.10.2"
  },
  "orig_nbformat": 4
 },
 "nbformat": 4,
 "nbformat_minor": 2
}
