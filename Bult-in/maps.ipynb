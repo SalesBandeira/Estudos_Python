{
 "cells": [
  {
   "cell_type": "code",
   "execution_count": 5,
   "metadata": {},
   "outputs": [
    {
     "name": "stdout",
     "output_type": "stream",
     "text": [
      "{2: 12.566370614359172, 4: 50.26548245743669, 6: 113.09733552923255, 8: 201.06192982974676, 7.6: 181.45839167134645}\n"
     ]
    }
   ],
   "source": [
    "\"\"\"\n",
    "Maps\n",
    "\n",
    "É utilizado para fazer o mapeamento devalores para função.\n",
    "\n",
    "\"\"\"\n",
    "\n",
    "import math\n",
    "\n",
    "raios = [2,4,6,8,7.6]\n",
    "\n",
    "def area(x):\n",
    "    return math.pi * (x ** 2)\n",
    "\n",
    "area(2)\n",
    "\n",
    "areas = {c: area(c) for c in raios}\n",
    "\n",
    "print(areas)"
   ]
  },
  {
   "cell_type": "code",
   "execution_count": 8,
   "metadata": {},
   "outputs": [
    {
     "name": "stdout",
     "output_type": "stream",
     "text": [
      "<map object at 0x0000020976DD78E0>\n",
      "<class 'map'>\n",
      "[12.566370614359172, 50.26548245743669, 113.09733552923255, 201.06192982974676, 181.45839167134645]\n"
     ]
    }
   ],
   "source": [
    "\"\"\"\n",
    "A função acima visa demostrar como seria a aplicação de uma função a diversos elementos de um iterável através\n",
    "de um loop for. \n",
    "\n",
    "Com o map isso é facilitado. Map é uma função que recebe dois argumentos. O primeiro, uma função. o Segundo um iterável.\n",
    "o map vai aplicar a função para cada um dos elementos da iteração.\n",
    "\n",
    "\"\"\"\n",
    "\n",
    "areas1 = map(area,raios)\n",
    "print(areas1)\n",
    "print(type(areas1))\n",
    "print(list(areas1))\n",
    "\n",
    "# o map gera um dtype map. o dtype próprio para esse método."
   ]
  },
  {
   "cell_type": "code",
   "execution_count": 13,
   "metadata": {},
   "outputs": [
    {
     "name": "stdout",
     "output_type": "stream",
     "text": [
      "[12.566370614359172, 50.26548245743669, 113.09733552923255, 201.06192982974676, 181.45839167134645]\n",
      "<class 'map'>\n"
     ]
    }
   ],
   "source": [
    "\"\"\"\n",
    "O ídeal é utilizarmos funções lambdas junto ao map.\n",
    "\"\"\"\n",
    "\n",
    "mapas1 = map(lambda x: math.pi * (x ** 2),raios)\n",
    "print(list(mapas1))\n",
    "print(type(mapas1))"
   ]
  },
  {
   "cell_type": "code",
   "execution_count": 14,
   "metadata": {},
   "outputs": [
    {
     "name": "stdout",
     "output_type": "stream",
     "text": [
      "[12.566370614359172, 50.26548245743669, 113.09733552923255, 201.06192982974676, 181.45839167134645]\n",
      "[]\n"
     ]
    }
   ],
   "source": [
    "\"\"\"\n",
    "Pontos importantes de maps:\n",
    "    - se apenas chamarmos o map dentro de um print, não iremos acessar seus dados. para isso, precisamos converte-lo.\n",
    "    - São completamentes iteráveis\n",
    "    - São elementos que somente são utilizados uma vez. O que quero dizer com isso?\n",
    "        R -  Se utilizar o elemento do map em qualquer circunstância( em um for, um print ou qualquer outro metodo/função)\n",
    "            o map ira zerar e não irá guardar nenhum elemento.\n",
    "\n",
    "\"\"\"\n",
    "mapas1 = map(lambda x: math.pi * (x ** 2),raios)\n",
    "print(list(mapas1)) # retorna o map com os parametros acima\n",
    "print(list(mapas1)) # irá retorna um map vazio.\n"
   ]
  },
  {
   "cell_type": "code",
   "execution_count": 23,
   "metadata": {},
   "outputs": [
    {
     "name": "stdout",
     "output_type": "stream",
     "text": [
      "[84.2, 96.8, 66.2]\n"
     ]
    }
   ],
   "source": [
    "citys = [('Berlim', 29), ('Cairo', 36), ('Buenos Aires', 19)]\n",
    "\n",
    "def farehaien(c):\n",
    "    return  9/5 * c + 32\n",
    "\n",
    "city_far = map(farehaien,(c[-1] for c in citys))\n",
    "\n",
    "print(list(city_far))"
   ]
  },
  {
   "cell_type": "code",
   "execution_count": 27,
   "metadata": {},
   "outputs": [
    {
     "name": "stdout",
     "output_type": "stream",
     "text": [
      "[('Berlim', 84.2), ('Cairo', 96.8), ('Buenos Aires', 66.2)]\n"
     ]
    }
   ],
   "source": [
    "\"\"\"\n",
    "O map vai pegar o iteravel e transformar cada um de seu elementos no argumento para sua função.\n",
    "Como já estudado em coleções, quando estamos iterando em objetos cujo os seu elementos são outros iteráveis\n",
    "podemos acessar o elemento dessa sub-coleção com o seu indice/chave entre colchetes. \n",
    "\n",
    "No caso do map, basta pensar da seguinte forma. \n",
    "\n",
    "    Estou iterando sobre um elemento iterável, portanto automaticamente posso \n",
    "    acessar os sub-elementos apenas com os colchetes.\n",
    "\n",
    "\"\"\"\n",
    "\n",
    "\n",
    "citys = [('Berlim', 29), ('Cairo', 36), ('Buenos Aires', 19)]\n",
    "\n",
    "c_para_f = lambda t: 9/5 * t + 32\n",
    "\n",
    "c_to_f = map(lambda t: (t[0], t[1] * 9/5  + 32), citys)\n",
    "\n",
    "print(list(c_to_f))\n"
   ]
  }
 ],
 "metadata": {
  "interpreter": {
   "hash": "9efce205f64ad363cd9f14615485aca38ee4ef0915866e318aa83c8d0c93f6fc"
  },
  "kernelspec": {
   "display_name": "Python 3.10.2 64-bit",
   "language": "python",
   "name": "python3"
  },
  "language_info": {
   "codemirror_mode": {
    "name": "ipython",
    "version": 3
   },
   "file_extension": ".py",
   "mimetype": "text/x-python",
   "name": "python",
   "nbconvert_exporter": "python",
   "pygments_lexer": "ipython3",
   "version": "3.10.2"
  },
  "orig_nbformat": 4
 },
 "nbformat": 4,
 "nbformat_minor": 2
}
