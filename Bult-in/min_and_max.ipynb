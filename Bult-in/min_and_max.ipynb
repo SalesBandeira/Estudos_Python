{
 "cells": [
  {
   "cell_type": "code",
   "execution_count": 5,
   "metadata": {},
   "outputs": [
    {
     "name": "stdout",
     "output_type": "stream",
     "text": [
      "532\n",
      "[20, 40]\n"
     ]
    }
   ],
   "source": [
    "\"\"\"\n",
    "max retorna o maior valor de um iterável ou o mair valor entre dois ou mais valores.\n",
    "\n",
    "\"\"\"\n",
    "va1 = int(input('Digite o primeiro valor'))\n",
    "va2 = int(input('Digite o segundo valor'))\n",
    "print(max(va1,va2))\n",
    "\n",
    "# quando trabalhado com iteráveis, retorna o com maior elemento isolado, independente da quantidade de elementos.\n",
    "l1 = [1,2,3,4,5,6,7,23,25]\n",
    "l2 = [20,40]\n",
    "print(max(l1,l2))"
   ]
  },
  {
   "cell_type": "code",
   "execution_count": 7,
   "metadata": {},
   "outputs": [
    {
     "name": "stdout",
     "output_type": "stream",
     "text": [
      "26\n",
      "[1, 2, 3, 4, 5, 6, 7, 23, 25]\n"
     ]
    }
   ],
   "source": [
    "\"\"\"\n",
    "min retorna o menor valor de um iterável ou o menor valor entre dois ou mais valores.\n",
    "\n",
    "\"\"\"\n",
    "va3 = int(input('Digite o primeiro valor'))\n",
    "va3 = int(input('Digite o segundo valor'))\n",
    "print(min(va1,va2))\n",
    "\n",
    "# quando trabalhado com iteráveis, retorna o com menor elemento isolado, independente da quantidade de elementos.\n",
    "l1 = [1,2,3,4,5,6,7,23,25]\n",
    "l2 = [20,40]\n",
    "print(min(l1,l2))"
   ]
  },
  {
   "cell_type": "code",
   "execution_count": 10,
   "metadata": {},
   "outputs": [
    {
     "name": "stdout",
     "output_type": "stream",
     "text": [
      "zeca\n",
      "aleffer\n"
     ]
    }
   ],
   "source": [
    "\"\"\"\n",
    "Quando trabalhando com strings, tanto o min quanto o max irão levar em consideração aordem alfabetica para definir o menor\n",
    "comçando de a, para o maior terminando em z.\n",
    "\n",
    "e como visto acima, quando trabalhando com coleções de iteráves o min e max analisam cada iterável do iterável de \n",
    "forma isolada. e ira retorna o que possuir a \"maior\" ou \"menor\" letra, em ordem alfabetica. \n",
    "\n",
    "\"\"\"\n",
    "\n",
    "nomes = ['aleffer', 'lu' 'igor', 'zeca']\n",
    "\n",
    "print(max(nomes)) # retorna a 'maior' string. Z\n",
    "print(min(nomes)) # retorna a menor string. A\n"
   ]
  },
  {
   "cell_type": "code",
   "execution_count": 11,
   "metadata": {},
   "outputs": [
    {
     "name": "stdout",
     "output_type": "stream",
     "text": [
      "aleffer\n"
     ]
    }
   ],
   "source": [
    "\"\"\"\n",
    "max e min aceitam o parametro key.\n",
    "\n",
    "o key vai servir para mudar a forma como o min ou max procuram pelos seus respectivos retornos.\n",
    "\n",
    "no exemplo abaixo, usamos um lambda para fazer com que, ao olhar em strings, ao inves de procurar pela string com\n",
    "a 'maior' letra,  ele procura pela string com o maior retorno no len\n",
    "\n",
    "\"\"\"\n",
    "\n",
    "print(max(nomes,key=lambda x: len(x))) # lamda que vai mudar o max para procurar pelo elemento com o maior len."
   ]
  },
  {
   "cell_type": "code",
   "execution_count": 56,
   "metadata": {},
   "outputs": [
    {
     "name": "stdout",
     "output_type": "stream",
     "text": [
      "7\n",
      "{'nome': 'satisfaction', 'tocou': 7}\n",
      "{'nome': 'pais_e_filhos', 'tocou': 3}\n"
     ]
    }
   ],
   "source": [
    "\"\"\"\n",
    "para usarmos em dicts, precisamos utilizar uma lambda para informar por qual chave ele deve procurar os valores\n",
    "\n",
    "\"\"\"\n",
    "\n",
    "musicas = [\n",
    "    {'nome': 'Back in Black', 'tocou': 5},\n",
    "    {'nome': 'pais_e_filhos', 'tocou': 3},\n",
    "    {'nome': 'satisfaction', 'tocou': 7}\n",
    "]\n",
    "\n",
    "print(max(musicas,key=lambda i: i['tocou'])) \n",
    "   \n",
    "\n",
    "      "
   ]
  },
  {
   "cell_type": "code",
   "execution_count": 62,
   "metadata": {},
   "outputs": [
    {
     "name": "stdout",
     "output_type": "stream",
     "text": [
      "{'nome': 'satisfaction', 'tocou': 7}\n",
      "{'nome': 'pais_e_filhos', 'tocou': 3}\n"
     ]
    }
   ],
   "source": [
    "\n",
    "\n",
    "\"\"\"\n",
    "Caso quisessemos extrair o max ou min resultado de uma coleção e não tivessemos como uilizar as funções builtin min e max\n",
    "o trabalho seria muito maior. Uma alternativa sertia utilizar um for para procurar pelo maior numero dentro dos valores e,\n",
    "ao encontra-lo, guardar esse valor.\n",
    "\n",
    "Depois criar outro for para, com o valor anteriormente encontrado buscar o dict a qual o valor pertence e o retornar.\n",
    "\"\"\"\n",
    "\n",
    "# max\n",
    "x = 0\n",
    "for m in musicas:\n",
    "    if m['tocou'] > x:\n",
    "        x = m['tocou']\n",
    "for m in musicas:\n",
    "    if m['tocou'] == x:\n",
    "        print(m)\n",
    "        \n",
    "\n",
    "#min\n",
    "x = 999\n",
    "\n",
    "for m in musicas:\n",
    "    if m['tocou'] < x:\n",
    "        x = m['tocou']\n",
    "for m in musicas:\n",
    "    if m['tocou'] == x:\n",
    "        print(m)"
   ]
  }
 ],
 "metadata": {
  "interpreter": {
   "hash": "9efce205f64ad363cd9f14615485aca38ee4ef0915866e318aa83c8d0c93f6fc"
  },
  "kernelspec": {
   "display_name": "Python 3.10.2 64-bit",
   "language": "python",
   "name": "python3"
  },
  "language_info": {
   "codemirror_mode": {
    "name": "ipython",
    "version": 3
   },
   "file_extension": ".py",
   "mimetype": "text/x-python",
   "name": "python",
   "nbconvert_exporter": "python",
   "pygments_lexer": "ipython3",
   "version": "3.10.2"
  },
  "orig_nbformat": 4
 },
 "nbformat": 4,
 "nbformat_minor": 2
}
